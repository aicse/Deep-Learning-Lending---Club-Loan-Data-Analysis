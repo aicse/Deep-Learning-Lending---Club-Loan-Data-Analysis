{
 "cells": [
  {
   "cell_type": "markdown",
   "metadata": {},
   "source": [
    "#  Lending Club Loan Data Analysis"
   ]
  },
  {
   "cell_type": "markdown",
   "metadata": {},
   "source": [
    "### Create a model that predicts whether or not a loan will be default using the historical data."
   ]
  },
  {
   "cell_type": "code",
   "execution_count": 1,
   "metadata": {},
   "outputs": [],
   "source": [
    "# import necessory librarys"
   ]
  },
  {
   "cell_type": "code",
   "execution_count": 2,
   "metadata": {},
   "outputs": [
    {
     "name": "stdout",
     "output_type": "stream",
     "text": [
      "All library importted\n"
     ]
    }
   ],
   "source": [
    "import pandas as pd\n",
    "import numpy as np\n",
    "import matplotlib.pyplot as plt\n",
    "import seaborn as sns\n",
    "print(\"All library importted\")"
   ]
  },
  {
   "cell_type": "code",
   "execution_count": 3,
   "metadata": {},
   "outputs": [],
   "source": [
    "# load the dataset\n",
    "df = pd.read_csv(\"loan_data.csv\")"
   ]
  },
  {
   "cell_type": "code",
   "execution_count": 4,
   "metadata": {},
   "outputs": [
    {
     "data": {
      "text/html": [
       "<div>\n",
       "<style scoped>\n",
       "    .dataframe tbody tr th:only-of-type {\n",
       "        vertical-align: middle;\n",
       "    }\n",
       "\n",
       "    .dataframe tbody tr th {\n",
       "        vertical-align: top;\n",
       "    }\n",
       "\n",
       "    .dataframe thead th {\n",
       "        text-align: right;\n",
       "    }\n",
       "</style>\n",
       "<table border=\"1\" class=\"dataframe\">\n",
       "  <thead>\n",
       "    <tr style=\"text-align: right;\">\n",
       "      <th></th>\n",
       "      <th>credit.policy</th>\n",
       "      <th>purpose</th>\n",
       "      <th>int.rate</th>\n",
       "      <th>installment</th>\n",
       "      <th>log.annual.inc</th>\n",
       "      <th>dti</th>\n",
       "      <th>fico</th>\n",
       "      <th>days.with.cr.line</th>\n",
       "      <th>revol.bal</th>\n",
       "      <th>revol.util</th>\n",
       "      <th>inq.last.6mths</th>\n",
       "      <th>delinq.2yrs</th>\n",
       "      <th>pub.rec</th>\n",
       "      <th>not.fully.paid</th>\n",
       "    </tr>\n",
       "  </thead>\n",
       "  <tbody>\n",
       "    <tr>\n",
       "      <th>0</th>\n",
       "      <td>1</td>\n",
       "      <td>debt_consolidation</td>\n",
       "      <td>0.1189</td>\n",
       "      <td>829.10</td>\n",
       "      <td>11.350407</td>\n",
       "      <td>19.48</td>\n",
       "      <td>737</td>\n",
       "      <td>5639.958333</td>\n",
       "      <td>28854</td>\n",
       "      <td>52.1</td>\n",
       "      <td>0</td>\n",
       "      <td>0</td>\n",
       "      <td>0</td>\n",
       "      <td>0</td>\n",
       "    </tr>\n",
       "    <tr>\n",
       "      <th>1</th>\n",
       "      <td>1</td>\n",
       "      <td>credit_card</td>\n",
       "      <td>0.1071</td>\n",
       "      <td>228.22</td>\n",
       "      <td>11.082143</td>\n",
       "      <td>14.29</td>\n",
       "      <td>707</td>\n",
       "      <td>2760.000000</td>\n",
       "      <td>33623</td>\n",
       "      <td>76.7</td>\n",
       "      <td>0</td>\n",
       "      <td>0</td>\n",
       "      <td>0</td>\n",
       "      <td>0</td>\n",
       "    </tr>\n",
       "    <tr>\n",
       "      <th>2</th>\n",
       "      <td>1</td>\n",
       "      <td>debt_consolidation</td>\n",
       "      <td>0.1357</td>\n",
       "      <td>366.86</td>\n",
       "      <td>10.373491</td>\n",
       "      <td>11.63</td>\n",
       "      <td>682</td>\n",
       "      <td>4710.000000</td>\n",
       "      <td>3511</td>\n",
       "      <td>25.6</td>\n",
       "      <td>1</td>\n",
       "      <td>0</td>\n",
       "      <td>0</td>\n",
       "      <td>0</td>\n",
       "    </tr>\n",
       "    <tr>\n",
       "      <th>3</th>\n",
       "      <td>1</td>\n",
       "      <td>debt_consolidation</td>\n",
       "      <td>0.1008</td>\n",
       "      <td>162.34</td>\n",
       "      <td>11.350407</td>\n",
       "      <td>8.10</td>\n",
       "      <td>712</td>\n",
       "      <td>2699.958333</td>\n",
       "      <td>33667</td>\n",
       "      <td>73.2</td>\n",
       "      <td>1</td>\n",
       "      <td>0</td>\n",
       "      <td>0</td>\n",
       "      <td>0</td>\n",
       "    </tr>\n",
       "    <tr>\n",
       "      <th>4</th>\n",
       "      <td>1</td>\n",
       "      <td>credit_card</td>\n",
       "      <td>0.1426</td>\n",
       "      <td>102.92</td>\n",
       "      <td>11.299732</td>\n",
       "      <td>14.97</td>\n",
       "      <td>667</td>\n",
       "      <td>4066.000000</td>\n",
       "      <td>4740</td>\n",
       "      <td>39.5</td>\n",
       "      <td>0</td>\n",
       "      <td>1</td>\n",
       "      <td>0</td>\n",
       "      <td>0</td>\n",
       "    </tr>\n",
       "  </tbody>\n",
       "</table>\n",
       "</div>"
      ],
      "text/plain": [
       "   credit.policy             purpose  int.rate  installment  log.annual.inc  \\\n",
       "0              1  debt_consolidation    0.1189       829.10       11.350407   \n",
       "1              1         credit_card    0.1071       228.22       11.082143   \n",
       "2              1  debt_consolidation    0.1357       366.86       10.373491   \n",
       "3              1  debt_consolidation    0.1008       162.34       11.350407   \n",
       "4              1         credit_card    0.1426       102.92       11.299732   \n",
       "\n",
       "     dti  fico  days.with.cr.line  revol.bal  revol.util  inq.last.6mths  \\\n",
       "0  19.48   737        5639.958333      28854        52.1               0   \n",
       "1  14.29   707        2760.000000      33623        76.7               0   \n",
       "2  11.63   682        4710.000000       3511        25.6               1   \n",
       "3   8.10   712        2699.958333      33667        73.2               1   \n",
       "4  14.97   667        4066.000000       4740        39.5               0   \n",
       "\n",
       "   delinq.2yrs  pub.rec  not.fully.paid  \n",
       "0            0        0               0  \n",
       "1            0        0               0  \n",
       "2            0        0               0  \n",
       "3            0        0               0  \n",
       "4            1        0               0  "
      ]
     },
     "execution_count": 4,
     "metadata": {},
     "output_type": "execute_result"
    }
   ],
   "source": [
    "df.head()"
   ]
  },
  {
   "cell_type": "code",
   "execution_count": 5,
   "metadata": {},
   "outputs": [
    {
     "data": {
      "text/plain": [
       "(9578, 14)"
      ]
     },
     "execution_count": 5,
     "metadata": {},
     "output_type": "execute_result"
    }
   ],
   "source": [
    "df.shape"
   ]
  },
  {
   "cell_type": "code",
   "execution_count": 6,
   "metadata": {},
   "outputs": [
    {
     "data": {
      "text/html": [
       "<div>\n",
       "<style scoped>\n",
       "    .dataframe tbody tr th:only-of-type {\n",
       "        vertical-align: middle;\n",
       "    }\n",
       "\n",
       "    .dataframe tbody tr th {\n",
       "        vertical-align: top;\n",
       "    }\n",
       "\n",
       "    .dataframe thead th {\n",
       "        text-align: right;\n",
       "    }\n",
       "</style>\n",
       "<table border=\"1\" class=\"dataframe\">\n",
       "  <thead>\n",
       "    <tr style=\"text-align: right;\">\n",
       "      <th></th>\n",
       "      <th>credit.policy</th>\n",
       "      <th>int.rate</th>\n",
       "      <th>installment</th>\n",
       "      <th>log.annual.inc</th>\n",
       "      <th>dti</th>\n",
       "      <th>fico</th>\n",
       "      <th>days.with.cr.line</th>\n",
       "      <th>revol.bal</th>\n",
       "      <th>revol.util</th>\n",
       "      <th>inq.last.6mths</th>\n",
       "      <th>delinq.2yrs</th>\n",
       "      <th>pub.rec</th>\n",
       "      <th>not.fully.paid</th>\n",
       "    </tr>\n",
       "  </thead>\n",
       "  <tbody>\n",
       "    <tr>\n",
       "      <th>count</th>\n",
       "      <td>9578.000000</td>\n",
       "      <td>9578.000000</td>\n",
       "      <td>9578.000000</td>\n",
       "      <td>9578.000000</td>\n",
       "      <td>9578.000000</td>\n",
       "      <td>9578.000000</td>\n",
       "      <td>9578.000000</td>\n",
       "      <td>9.578000e+03</td>\n",
       "      <td>9578.000000</td>\n",
       "      <td>9578.000000</td>\n",
       "      <td>9578.000000</td>\n",
       "      <td>9578.000000</td>\n",
       "      <td>9578.000000</td>\n",
       "    </tr>\n",
       "    <tr>\n",
       "      <th>mean</th>\n",
       "      <td>0.804970</td>\n",
       "      <td>0.122640</td>\n",
       "      <td>319.089413</td>\n",
       "      <td>10.932117</td>\n",
       "      <td>12.606679</td>\n",
       "      <td>710.846314</td>\n",
       "      <td>4560.767197</td>\n",
       "      <td>1.691396e+04</td>\n",
       "      <td>46.799236</td>\n",
       "      <td>1.577469</td>\n",
       "      <td>0.163708</td>\n",
       "      <td>0.062122</td>\n",
       "      <td>0.160054</td>\n",
       "    </tr>\n",
       "    <tr>\n",
       "      <th>std</th>\n",
       "      <td>0.396245</td>\n",
       "      <td>0.026847</td>\n",
       "      <td>207.071301</td>\n",
       "      <td>0.614813</td>\n",
       "      <td>6.883970</td>\n",
       "      <td>37.970537</td>\n",
       "      <td>2496.930377</td>\n",
       "      <td>3.375619e+04</td>\n",
       "      <td>29.014417</td>\n",
       "      <td>2.200245</td>\n",
       "      <td>0.546215</td>\n",
       "      <td>0.262126</td>\n",
       "      <td>0.366676</td>\n",
       "    </tr>\n",
       "    <tr>\n",
       "      <th>min</th>\n",
       "      <td>0.000000</td>\n",
       "      <td>0.060000</td>\n",
       "      <td>15.670000</td>\n",
       "      <td>7.547502</td>\n",
       "      <td>0.000000</td>\n",
       "      <td>612.000000</td>\n",
       "      <td>178.958333</td>\n",
       "      <td>0.000000e+00</td>\n",
       "      <td>0.000000</td>\n",
       "      <td>0.000000</td>\n",
       "      <td>0.000000</td>\n",
       "      <td>0.000000</td>\n",
       "      <td>0.000000</td>\n",
       "    </tr>\n",
       "    <tr>\n",
       "      <th>25%</th>\n",
       "      <td>1.000000</td>\n",
       "      <td>0.103900</td>\n",
       "      <td>163.770000</td>\n",
       "      <td>10.558414</td>\n",
       "      <td>7.212500</td>\n",
       "      <td>682.000000</td>\n",
       "      <td>2820.000000</td>\n",
       "      <td>3.187000e+03</td>\n",
       "      <td>22.600000</td>\n",
       "      <td>0.000000</td>\n",
       "      <td>0.000000</td>\n",
       "      <td>0.000000</td>\n",
       "      <td>0.000000</td>\n",
       "    </tr>\n",
       "    <tr>\n",
       "      <th>50%</th>\n",
       "      <td>1.000000</td>\n",
       "      <td>0.122100</td>\n",
       "      <td>268.950000</td>\n",
       "      <td>10.928884</td>\n",
       "      <td>12.665000</td>\n",
       "      <td>707.000000</td>\n",
       "      <td>4139.958333</td>\n",
       "      <td>8.596000e+03</td>\n",
       "      <td>46.300000</td>\n",
       "      <td>1.000000</td>\n",
       "      <td>0.000000</td>\n",
       "      <td>0.000000</td>\n",
       "      <td>0.000000</td>\n",
       "    </tr>\n",
       "    <tr>\n",
       "      <th>75%</th>\n",
       "      <td>1.000000</td>\n",
       "      <td>0.140700</td>\n",
       "      <td>432.762500</td>\n",
       "      <td>11.291293</td>\n",
       "      <td>17.950000</td>\n",
       "      <td>737.000000</td>\n",
       "      <td>5730.000000</td>\n",
       "      <td>1.824950e+04</td>\n",
       "      <td>70.900000</td>\n",
       "      <td>2.000000</td>\n",
       "      <td>0.000000</td>\n",
       "      <td>0.000000</td>\n",
       "      <td>0.000000</td>\n",
       "    </tr>\n",
       "    <tr>\n",
       "      <th>max</th>\n",
       "      <td>1.000000</td>\n",
       "      <td>0.216400</td>\n",
       "      <td>940.140000</td>\n",
       "      <td>14.528354</td>\n",
       "      <td>29.960000</td>\n",
       "      <td>827.000000</td>\n",
       "      <td>17639.958330</td>\n",
       "      <td>1.207359e+06</td>\n",
       "      <td>119.000000</td>\n",
       "      <td>33.000000</td>\n",
       "      <td>13.000000</td>\n",
       "      <td>5.000000</td>\n",
       "      <td>1.000000</td>\n",
       "    </tr>\n",
       "  </tbody>\n",
       "</table>\n",
       "</div>"
      ],
      "text/plain": [
       "       credit.policy     int.rate  installment  log.annual.inc          dti  \\\n",
       "count    9578.000000  9578.000000  9578.000000     9578.000000  9578.000000   \n",
       "mean        0.804970     0.122640   319.089413       10.932117    12.606679   \n",
       "std         0.396245     0.026847   207.071301        0.614813     6.883970   \n",
       "min         0.000000     0.060000    15.670000        7.547502     0.000000   \n",
       "25%         1.000000     0.103900   163.770000       10.558414     7.212500   \n",
       "50%         1.000000     0.122100   268.950000       10.928884    12.665000   \n",
       "75%         1.000000     0.140700   432.762500       11.291293    17.950000   \n",
       "max         1.000000     0.216400   940.140000       14.528354    29.960000   \n",
       "\n",
       "              fico  days.with.cr.line     revol.bal   revol.util  \\\n",
       "count  9578.000000        9578.000000  9.578000e+03  9578.000000   \n",
       "mean    710.846314        4560.767197  1.691396e+04    46.799236   \n",
       "std      37.970537        2496.930377  3.375619e+04    29.014417   \n",
       "min     612.000000         178.958333  0.000000e+00     0.000000   \n",
       "25%     682.000000        2820.000000  3.187000e+03    22.600000   \n",
       "50%     707.000000        4139.958333  8.596000e+03    46.300000   \n",
       "75%     737.000000        5730.000000  1.824950e+04    70.900000   \n",
       "max     827.000000       17639.958330  1.207359e+06   119.000000   \n",
       "\n",
       "       inq.last.6mths  delinq.2yrs      pub.rec  not.fully.paid  \n",
       "count     9578.000000  9578.000000  9578.000000     9578.000000  \n",
       "mean         1.577469     0.163708     0.062122        0.160054  \n",
       "std          2.200245     0.546215     0.262126        0.366676  \n",
       "min          0.000000     0.000000     0.000000        0.000000  \n",
       "25%          0.000000     0.000000     0.000000        0.000000  \n",
       "50%          1.000000     0.000000     0.000000        0.000000  \n",
       "75%          2.000000     0.000000     0.000000        0.000000  \n",
       "max         33.000000    13.000000     5.000000        1.000000  "
      ]
     },
     "execution_count": 6,
     "metadata": {},
     "output_type": "execute_result"
    }
   ],
   "source": [
    "df.describe()"
   ]
  },
  {
   "cell_type": "code",
   "execution_count": 7,
   "metadata": {},
   "outputs": [
    {
     "data": {
      "text/plain": [
       "False"
      ]
     },
     "execution_count": 7,
     "metadata": {},
     "output_type": "execute_result"
    }
   ],
   "source": [
    "#missing values\n",
    "df.isna().sum().any()"
   ]
  },
  {
   "cell_type": "code",
   "execution_count": 8,
   "metadata": {},
   "outputs": [
    {
     "data": {
      "text/plain": [
       "0    8045\n",
       "1    1533\n",
       "Name: not.fully.paid, dtype: int64"
      ]
     },
     "execution_count": 8,
     "metadata": {},
     "output_type": "execute_result"
    }
   ],
   "source": [
    "df['not.fully.paid'].value_counts()\n",
    "# 0- means fully paid , 1-means not paid\n",
    "# my observation is imbalance data"
   ]
  },
  {
   "cell_type": "markdown",
   "metadata": {},
   "source": [
    "###  Exploratory data analysis of different factors of the dataset."
   ]
  },
  {
   "cell_type": "code",
   "execution_count": 9,
   "metadata": {},
   "outputs": [
    {
     "name": "stderr",
     "output_type": "stream",
     "text": [
      "/usr/local/lib/python3.7/site-packages/seaborn/_decorators.py:43: FutureWarning: Pass the following variable as a keyword arg: x. From version 0.12, the only valid positional argument will be `data`, and passing other arguments without an explicit keyword will result in an error or misinterpretation.\n",
      "  FutureWarning\n"
     ]
    },
    {
     "data": {
      "image/png": "[encoded data removed]",
      "text/plain": [
       "<Figure size 432x288 with 1 Axes>"
      ]
     },
     "metadata": {
      "needs_background": "light"
     },
     "output_type": "display_data"
    }
   ],
   "source": [
    "sns.countplot(df['not.fully.paid'])\n",
    "plt.show()"
   ]
  },
  {
   "cell_type": "code",
   "execution_count": 10,
   "metadata": {},
   "outputs": [
    {
     "name": "stderr",
     "output_type": "stream",
     "text": [
      "/usr/local/lib/python3.7/site-packages/seaborn/_decorators.py:43: FutureWarning: Pass the following variable as a keyword arg: x. From version 0.12, the only valid positional argument will be `data`, and passing other arguments without an explicit keyword will result in an error or misinterpretation.\n",
      "  FutureWarning\n"
     ]
    },
    {
     "data": {
      "image/png": "[encoded data removed]",
      "text/plain": [
       "<Figure size 936x648 with 1 Axes>"
      ]
     },
     "metadata": {
      "needs_background": "light"
     },
     "output_type": "display_data"
    }
   ],
   "source": [
    "plt.figure (figsize=(13,9))\n",
    "sns.countplot(df['purpose'])\n",
    "plt.show()"
   ]
  },
  {
   "cell_type": "code",
   "execution_count": 11,
   "metadata": {},
   "outputs": [
    {
     "data": {
      "image/png": "[encoded data removed]",
      "text/plain": [
       "<Figure size 864x648 with 1 Axes>"
      ]
     },
     "metadata": {
      "needs_background": "light"
     },
     "output_type": "display_data"
    }
   ],
   "source": [
    "# purpose --not fully paid \n",
    "plt.figure(figsize=(12,9))\n",
    "sns.countplot(x='purpose',hue='not.fully.paid',data=df)\n",
    "plt.show()"
   ]
  },
  {
   "cell_type": "code",
   "execution_count": 12,
   "metadata": {},
   "outputs": [
    {
     "data": {
      "image/png": "[encoded data removed]",
      "text/plain": [
       "<Figure size 432x288 with 1 Axes>"
      ]
     },
     "metadata": {
      "needs_background": "light"
     },
     "output_type": "display_data"
    }
   ],
   "source": [
    "sns.scatterplot(x='fico',y='int.rate',data=df)\n",
    "plt.show()"
   ]
  },
  {
   "cell_type": "code",
   "execution_count": 13,
   "metadata": {},
   "outputs": [
    {
     "data": {
      "image/png": "[encoded data removed]",
      "text/plain": [
       "<Figure size 720x504 with 1 Axes>"
      ]
     },
     "metadata": {
      "needs_background": "light"
     },
     "output_type": "display_data"
    }
   ],
   "source": [
    "plt.figure(figsize=(10,7))\n",
    "sns.histplot(x='fico',hue='not.fully.paid',data=df)\n",
    "plt.show()"
   ]
  },
  {
   "cell_type": "markdown",
   "metadata": {},
   "source": [
    "## Feature Transformation\n",
    "\n",
    "## Transform categorical values into numerical values (discrete)\n"
   ]
  },
  {
   "cell_type": "code",
   "execution_count": 14,
   "metadata": {},
   "outputs": [
    {
     "data": {
      "text/plain": [
       "0    8045\n",
       "1    1533\n",
       "Name: not.fully.paid, dtype: int64"
      ]
     },
     "execution_count": 14,
     "metadata": {},
     "output_type": "execute_result"
    }
   ],
   "source": [
    "df['not.fully.paid'].value_counts()"
   ]
  },
  {
   "cell_type": "code",
   "execution_count": 15,
   "metadata": {},
   "outputs": [],
   "source": [
    "not_fully_paid_0=df[df['not.fully.paid']==0]\n",
    "not_fully_paid_1=df[df['not.fully.paid']==1]"
   ]
  },
  {
   "cell_type": "code",
   "execution_count": 16,
   "metadata": {},
   "outputs": [],
   "source": [
    "# resample\n",
    "from sklearn.utils import resample\n",
    "df_minor_upsample=resample(not_fully_paid_1,replace=True,n_samples=8045)"
   ]
  },
  {
   "cell_type": "code",
   "execution_count": 17,
   "metadata": {},
   "outputs": [],
   "source": [
    "new_df=pd.concat([not_fully_paid_0,df_minor_upsample])"
   ]
  },
  {
   "cell_type": "code",
   "execution_count": 18,
   "metadata": {},
   "outputs": [],
   "source": [
    "# shuffle\n",
    "from sklearn.utils import shuffle\n",
    "new_df=shuffle(new_df)"
   ]
  },
  {
   "cell_type": "code",
   "execution_count": 19,
   "metadata": {},
   "outputs": [
    {
     "data": {
      "text/plain": [
       "1    8045\n",
       "0    8045\n",
       "Name: not.fully.paid, dtype: int64"
      ]
     },
     "execution_count": 19,
     "metadata": {},
     "output_type": "execute_result"
    }
   ],
   "source": [
    "new_df['not.fully.paid'].value_counts()"
   ]
  },
  {
   "cell_type": "code",
   "execution_count": 20,
   "metadata": {},
   "outputs": [
    {
     "data": {
      "text/plain": [
       "(16090, 14)"
      ]
     },
     "execution_count": 20,
     "metadata": {},
     "output_type": "execute_result"
    }
   ],
   "source": [
    "new_df.shape"
   ]
  },
  {
   "cell_type": "code",
   "execution_count": 21,
   "metadata": {},
   "outputs": [
    {
     "data": {
      "text/plain": [
       "credit.policy          int64\n",
       "purpose               object\n",
       "int.rate             float64\n",
       "installment          float64\n",
       "log.annual.inc       float64\n",
       "dti                  float64\n",
       "fico                   int64\n",
       "days.with.cr.line    float64\n",
       "revol.bal              int64\n",
       "revol.util           float64\n",
       "inq.last.6mths         int64\n",
       "delinq.2yrs            int64\n",
       "pub.rec                int64\n",
       "not.fully.paid         int64\n",
       "dtype: object"
      ]
     },
     "execution_count": 21,
     "metadata": {},
     "output_type": "execute_result"
    }
   ],
   "source": [
    "new_df.dtypes"
   ]
  },
  {
   "cell_type": "code",
   "execution_count": 22,
   "metadata": {},
   "outputs": [],
   "source": [
    "# convert purpose into numerical data\n",
    "from sklearn.preprocessing import LabelEncoder\n",
    "le =LabelEncoder()"
   ]
  },
  {
   "cell_type": "code",
   "execution_count": 23,
   "metadata": {},
   "outputs": [],
   "source": [
    "for i in new_df.columns:\n",
    "    if new_df[i].dtypes=='object':\n",
    "        new_df[i]=le.fit_transform(new_df[i])"
   ]
  },
  {
   "cell_type": "code",
   "execution_count": 24,
   "metadata": {},
   "outputs": [
    {
     "data": {
      "text/html": [
       "<div>\n",
       "<style scoped>\n",
       "    .dataframe tbody tr th:only-of-type {\n",
       "        vertical-align: middle;\n",
       "    }\n",
       "\n",
       "    .dataframe tbody tr th {\n",
       "        vertical-align: top;\n",
       "    }\n",
       "\n",
       "    .dataframe thead th {\n",
       "        text-align: right;\n",
       "    }\n",
       "</style>\n",
       "<table border=\"1\" class=\"dataframe\">\n",
       "  <thead>\n",
       "    <tr style=\"text-align: right;\">\n",
       "      <th></th>\n",
       "      <th>credit.policy</th>\n",
       "      <th>purpose</th>\n",
       "      <th>int.rate</th>\n",
       "      <th>installment</th>\n",
       "      <th>log.annual.inc</th>\n",
       "      <th>dti</th>\n",
       "      <th>fico</th>\n",
       "      <th>days.with.cr.line</th>\n",
       "      <th>revol.bal</th>\n",
       "      <th>revol.util</th>\n",
       "      <th>inq.last.6mths</th>\n",
       "      <th>delinq.2yrs</th>\n",
       "      <th>pub.rec</th>\n",
       "      <th>not.fully.paid</th>\n",
       "    </tr>\n",
       "  </thead>\n",
       "  <tbody>\n",
       "    <tr>\n",
       "      <th>8782</th>\n",
       "      <td>0</td>\n",
       "      <td>0</td>\n",
       "      <td>0.1412</td>\n",
       "      <td>119.83</td>\n",
       "      <td>10.714418</td>\n",
       "      <td>10.19</td>\n",
       "      <td>657</td>\n",
       "      <td>3210.000000</td>\n",
       "      <td>9771</td>\n",
       "      <td>86.4</td>\n",
       "      <td>4</td>\n",
       "      <td>0</td>\n",
       "      <td>0</td>\n",
       "      <td>0</td>\n",
       "    </tr>\n",
       "    <tr>\n",
       "      <th>3492</th>\n",
       "      <td>1</td>\n",
       "      <td>2</td>\n",
       "      <td>0.1221</td>\n",
       "      <td>666.30</td>\n",
       "      <td>11.184421</td>\n",
       "      <td>14.63</td>\n",
       "      <td>727</td>\n",
       "      <td>4320.000000</td>\n",
       "      <td>28585</td>\n",
       "      <td>60.8</td>\n",
       "      <td>0</td>\n",
       "      <td>0</td>\n",
       "      <td>0</td>\n",
       "      <td>1</td>\n",
       "    </tr>\n",
       "    <tr>\n",
       "      <th>3821</th>\n",
       "      <td>1</td>\n",
       "      <td>0</td>\n",
       "      <td>0.1095</td>\n",
       "      <td>163.57</td>\n",
       "      <td>11.603680</td>\n",
       "      <td>15.75</td>\n",
       "      <td>717</td>\n",
       "      <td>4680.000000</td>\n",
       "      <td>34267</td>\n",
       "      <td>67.5</td>\n",
       "      <td>2</td>\n",
       "      <td>0</td>\n",
       "      <td>0</td>\n",
       "      <td>0</td>\n",
       "    </tr>\n",
       "    <tr>\n",
       "      <th>8257</th>\n",
       "      <td>0</td>\n",
       "      <td>2</td>\n",
       "      <td>0.1103</td>\n",
       "      <td>818.83</td>\n",
       "      <td>12.323856</td>\n",
       "      <td>12.66</td>\n",
       "      <td>712</td>\n",
       "      <td>4409.000000</td>\n",
       "      <td>242194</td>\n",
       "      <td>56.0</td>\n",
       "      <td>0</td>\n",
       "      <td>0</td>\n",
       "      <td>0</td>\n",
       "      <td>1</td>\n",
       "    </tr>\n",
       "    <tr>\n",
       "      <th>4877</th>\n",
       "      <td>1</td>\n",
       "      <td>0</td>\n",
       "      <td>0.1600</td>\n",
       "      <td>98.45</td>\n",
       "      <td>10.416191</td>\n",
       "      <td>14.77</td>\n",
       "      <td>662</td>\n",
       "      <td>1319.958333</td>\n",
       "      <td>339</td>\n",
       "      <td>12.1</td>\n",
       "      <td>2</td>\n",
       "      <td>0</td>\n",
       "      <td>0</td>\n",
       "      <td>1</td>\n",
       "    </tr>\n",
       "  </tbody>\n",
       "</table>\n",
       "</div>"
      ],
      "text/plain": [
       "      credit.policy  purpose  int.rate  installment  log.annual.inc    dti  \\\n",
       "8782              0        0    0.1412       119.83       10.714418  10.19   \n",
       "3492              1        2    0.1221       666.30       11.184421  14.63   \n",
       "3821              1        0    0.1095       163.57       11.603680  15.75   \n",
       "8257              0        2    0.1103       818.83       12.323856  12.66   \n",
       "4877              1        0    0.1600        98.45       10.416191  14.77   \n",
       "\n",
       "      fico  days.with.cr.line  revol.bal  revol.util  inq.last.6mths  \\\n",
       "8782   657        3210.000000       9771        86.4               4   \n",
       "3492   727        4320.000000      28585        60.8               0   \n",
       "3821   717        4680.000000      34267        67.5               2   \n",
       "8257   712        4409.000000     242194        56.0               0   \n",
       "4877   662        1319.958333        339        12.1               2   \n",
       "\n",
       "      delinq.2yrs  pub.rec  not.fully.paid  \n",
       "8782            0        0               0  \n",
       "3492            0        0               1  \n",
       "3821            0        0               0  \n",
       "8257            0        0               1  \n",
       "4877            0        0               1  "
      ]
     },
     "execution_count": 24,
     "metadata": {},
     "output_type": "execute_result"
    }
   ],
   "source": [
    "new_df.head()"
   ]
  },
  {
   "cell_type": "markdown",
   "metadata": {},
   "source": [
    "## Additional Feature Engineering "
   ]
  },
  {
   "cell_type": "code",
   "execution_count": 25,
   "metadata": {},
   "outputs": [
    {
     "data": {
      "text/html": [
       "<div>\n",
       "<style scoped>\n",
       "    .dataframe tbody tr th:only-of-type {\n",
       "        vertical-align: middle;\n",
       "    }\n",
       "\n",
       "    .dataframe tbody tr th {\n",
       "        vertical-align: top;\n",
       "    }\n",
       "\n",
       "    .dataframe thead th {\n",
       "        text-align: right;\n",
       "    }\n",
       "</style>\n",
       "<table border=\"1\" class=\"dataframe\">\n",
       "  <thead>\n",
       "    <tr style=\"text-align: right;\">\n",
       "      <th></th>\n",
       "      <th>credit.policy</th>\n",
       "      <th>purpose</th>\n",
       "      <th>int.rate</th>\n",
       "      <th>installment</th>\n",
       "      <th>log.annual.inc</th>\n",
       "      <th>dti</th>\n",
       "      <th>fico</th>\n",
       "      <th>days.with.cr.line</th>\n",
       "      <th>revol.bal</th>\n",
       "      <th>revol.util</th>\n",
       "      <th>inq.last.6mths</th>\n",
       "      <th>delinq.2yrs</th>\n",
       "      <th>pub.rec</th>\n",
       "      <th>not.fully.paid</th>\n",
       "    </tr>\n",
       "  </thead>\n",
       "  <tbody>\n",
       "    <tr>\n",
       "      <th>credit.policy</th>\n",
       "      <td>1.000000</td>\n",
       "      <td>0.009097</td>\n",
       "      <td>-0.288040</td>\n",
       "      <td>0.051985</td>\n",
       "      <td>0.023310</td>\n",
       "      <td>-0.107404</td>\n",
       "      <td>0.372500</td>\n",
       "      <td>0.101963</td>\n",
       "      <td>-0.183294</td>\n",
       "      <td>-0.095301</td>\n",
       "      <td>-0.543335</td>\n",
       "      <td>-0.059199</td>\n",
       "      <td>-0.062898</td>\n",
       "      <td>-0.194886</td>\n",
       "    </tr>\n",
       "    <tr>\n",
       "      <th>purpose</th>\n",
       "      <td>0.009097</td>\n",
       "      <td>1.000000</td>\n",
       "      <td>0.155618</td>\n",
       "      <td>0.198676</td>\n",
       "      <td>0.108969</td>\n",
       "      <td>-0.038988</td>\n",
       "      <td>0.064936</td>\n",
       "      <td>0.060905</td>\n",
       "      <td>0.065036</td>\n",
       "      <td>-0.071921</td>\n",
       "      <td>0.049193</td>\n",
       "      <td>0.003047</td>\n",
       "      <td>0.008493</td>\n",
       "      <td>0.062390</td>\n",
       "    </tr>\n",
       "    <tr>\n",
       "      <th>int.rate</th>\n",
       "      <td>-0.288040</td>\n",
       "      <td>0.155618</td>\n",
       "      <td>1.000000</td>\n",
       "      <td>0.278762</td>\n",
       "      <td>0.088776</td>\n",
       "      <td>0.213374</td>\n",
       "      <td>-0.679289</td>\n",
       "      <td>-0.096354</td>\n",
       "      <td>0.087130</td>\n",
       "      <td>0.417074</td>\n",
       "      <td>0.183889</td>\n",
       "      <td>0.151028</td>\n",
       "      <td>0.106161</td>\n",
       "      <td>0.205697</td>\n",
       "    </tr>\n",
       "    <tr>\n",
       "      <th>installment</th>\n",
       "      <td>0.051985</td>\n",
       "      <td>0.198676</td>\n",
       "      <td>0.278762</td>\n",
       "      <td>1.000000</td>\n",
       "      <td>0.470014</td>\n",
       "      <td>0.032384</td>\n",
       "      <td>0.109998</td>\n",
       "      <td>0.187717</td>\n",
       "      <td>0.244774</td>\n",
       "      <td>0.059197</td>\n",
       "      <td>-0.016854</td>\n",
       "      <td>0.000810</td>\n",
       "      <td>-0.027508</td>\n",
       "      <td>0.069890</td>\n",
       "    </tr>\n",
       "    <tr>\n",
       "      <th>log.annual.inc</th>\n",
       "      <td>0.023310</td>\n",
       "      <td>0.108969</td>\n",
       "      <td>0.088776</td>\n",
       "      <td>0.470014</td>\n",
       "      <td>1.000000</td>\n",
       "      <td>-0.027590</td>\n",
       "      <td>0.105770</td>\n",
       "      <td>0.342234</td>\n",
       "      <td>0.372457</td>\n",
       "      <td>0.078417</td>\n",
       "      <td>0.036594</td>\n",
       "      <td>0.021930</td>\n",
       "      <td>0.024055</td>\n",
       "      <td>-0.041026</td>\n",
       "    </tr>\n",
       "    <tr>\n",
       "      <th>dti</th>\n",
       "      <td>-0.107404</td>\n",
       "      <td>-0.038988</td>\n",
       "      <td>0.213374</td>\n",
       "      <td>0.032384</td>\n",
       "      <td>-0.027590</td>\n",
       "      <td>1.000000</td>\n",
       "      <td>-0.222464</td>\n",
       "      <td>0.093253</td>\n",
       "      <td>0.160022</td>\n",
       "      <td>0.326170</td>\n",
       "      <td>0.030055</td>\n",
       "      <td>-0.033153</td>\n",
       "      <td>0.019376</td>\n",
       "      <td>0.058015</td>\n",
       "    </tr>\n",
       "    <tr>\n",
       "      <th>fico</th>\n",
       "      <td>0.372500</td>\n",
       "      <td>0.064936</td>\n",
       "      <td>-0.679289</td>\n",
       "      <td>0.109998</td>\n",
       "      <td>0.105770</td>\n",
       "      <td>-0.222464</td>\n",
       "      <td>1.000000</td>\n",
       "      <td>0.263120</td>\n",
       "      <td>0.009329</td>\n",
       "      <td>-0.500435</td>\n",
       "      <td>-0.188686</td>\n",
       "      <td>-0.210431</td>\n",
       "      <td>-0.155474</td>\n",
       "      <td>-0.199179</td>\n",
       "    </tr>\n",
       "    <tr>\n",
       "      <th>days.with.cr.line</th>\n",
       "      <td>0.101963</td>\n",
       "      <td>0.060905</td>\n",
       "      <td>-0.096354</td>\n",
       "      <td>0.187717</td>\n",
       "      <td>0.342234</td>\n",
       "      <td>0.093253</td>\n",
       "      <td>0.263120</td>\n",
       "      <td>1.000000</td>\n",
       "      <td>0.251895</td>\n",
       "      <td>0.014484</td>\n",
       "      <td>-0.031736</td>\n",
       "      <td>0.071191</td>\n",
       "      <td>0.061456</td>\n",
       "      <td>-0.041605</td>\n",
       "    </tr>\n",
       "    <tr>\n",
       "      <th>revol.bal</th>\n",
       "      <td>-0.183294</td>\n",
       "      <td>0.065036</td>\n",
       "      <td>0.087130</td>\n",
       "      <td>0.244774</td>\n",
       "      <td>0.372457</td>\n",
       "      <td>0.160022</td>\n",
       "      <td>0.009329</td>\n",
       "      <td>0.251895</td>\n",
       "      <td>1.000000</td>\n",
       "      <td>0.161268</td>\n",
       "      <td>0.042036</td>\n",
       "      <td>-0.030257</td>\n",
       "      <td>-0.030296</td>\n",
       "      <td>0.059934</td>\n",
       "    </tr>\n",
       "    <tr>\n",
       "      <th>revol.util</th>\n",
       "      <td>-0.095301</td>\n",
       "      <td>-0.071921</td>\n",
       "      <td>0.417074</td>\n",
       "      <td>0.059197</td>\n",
       "      <td>0.078417</td>\n",
       "      <td>0.326170</td>\n",
       "      <td>-0.500435</td>\n",
       "      <td>0.014484</td>\n",
       "      <td>0.161268</td>\n",
       "      <td>1.000000</td>\n",
       "      <td>-0.032231</td>\n",
       "      <td>-0.040760</td>\n",
       "      <td>0.074139</td>\n",
       "      <td>0.106028</td>\n",
       "    </tr>\n",
       "    <tr>\n",
       "      <th>inq.last.6mths</th>\n",
       "      <td>-0.543335</td>\n",
       "      <td>0.049193</td>\n",
       "      <td>0.183889</td>\n",
       "      <td>-0.016854</td>\n",
       "      <td>0.036594</td>\n",
       "      <td>0.030055</td>\n",
       "      <td>-0.188686</td>\n",
       "      <td>-0.031736</td>\n",
       "      <td>0.042036</td>\n",
       "      <td>-0.032231</td>\n",
       "      <td>1.000000</td>\n",
       "      <td>0.018464</td>\n",
       "      <td>0.095552</td>\n",
       "      <td>0.171867</td>\n",
       "    </tr>\n",
       "    <tr>\n",
       "      <th>delinq.2yrs</th>\n",
       "      <td>-0.059199</td>\n",
       "      <td>0.003047</td>\n",
       "      <td>0.151028</td>\n",
       "      <td>0.000810</td>\n",
       "      <td>0.021930</td>\n",
       "      <td>-0.033153</td>\n",
       "      <td>-0.210431</td>\n",
       "      <td>0.071191</td>\n",
       "      <td>-0.030257</td>\n",
       "      <td>-0.040760</td>\n",
       "      <td>0.018464</td>\n",
       "      <td>1.000000</td>\n",
       "      <td>0.001157</td>\n",
       "      <td>0.011340</td>\n",
       "    </tr>\n",
       "    <tr>\n",
       "      <th>pub.rec</th>\n",
       "      <td>-0.062898</td>\n",
       "      <td>0.008493</td>\n",
       "      <td>0.106161</td>\n",
       "      <td>-0.027508</td>\n",
       "      <td>0.024055</td>\n",
       "      <td>0.019376</td>\n",
       "      <td>-0.155474</td>\n",
       "      <td>0.061456</td>\n",
       "      <td>-0.030296</td>\n",
       "      <td>0.074139</td>\n",
       "      <td>0.095552</td>\n",
       "      <td>0.001157</td>\n",
       "      <td>1.000000</td>\n",
       "      <td>0.050653</td>\n",
       "    </tr>\n",
       "    <tr>\n",
       "      <th>not.fully.paid</th>\n",
       "      <td>-0.194886</td>\n",
       "      <td>0.062390</td>\n",
       "      <td>0.205697</td>\n",
       "      <td>0.069890</td>\n",
       "      <td>-0.041026</td>\n",
       "      <td>0.058015</td>\n",
       "      <td>-0.199179</td>\n",
       "      <td>-0.041605</td>\n",
       "      <td>0.059934</td>\n",
       "      <td>0.106028</td>\n",
       "      <td>0.171867</td>\n",
       "      <td>0.011340</td>\n",
       "      <td>0.050653</td>\n",
       "      <td>1.000000</td>\n",
       "    </tr>\n",
       "  </tbody>\n",
       "</table>\n",
       "</div>"
      ],
      "text/plain": [
       "                   credit.policy   purpose  int.rate  installment  \\\n",
       "credit.policy           1.000000  0.009097 -0.288040     0.051985   \n",
       "purpose                 0.009097  1.000000  0.155618     0.198676   \n",
       "int.rate               -0.288040  0.155618  1.000000     0.278762   \n",
       "installment             0.051985  0.198676  0.278762     1.000000   \n",
       "log.annual.inc          0.023310  0.108969  0.088776     0.470014   \n",
       "dti                    -0.107404 -0.038988  0.213374     0.032384   \n",
       "fico                    0.372500  0.064936 -0.679289     0.109998   \n",
       "days.with.cr.line       0.101963  0.060905 -0.096354     0.187717   \n",
       "revol.bal              -0.183294  0.065036  0.087130     0.244774   \n",
       "revol.util             -0.095301 -0.071921  0.417074     0.059197   \n",
       "inq.last.6mths         -0.543335  0.049193  0.183889    -0.016854   \n",
       "delinq.2yrs            -0.059199  0.003047  0.151028     0.000810   \n",
       "pub.rec                -0.062898  0.008493  0.106161    -0.027508   \n",
       "not.fully.paid         -0.194886  0.062390  0.205697     0.069890   \n",
       "\n",
       "                   log.annual.inc       dti      fico  days.with.cr.line  \\\n",
       "credit.policy            0.023310 -0.107404  0.372500           0.101963   \n",
       "purpose                  0.108969 -0.038988  0.064936           0.060905   \n",
       "int.rate                 0.088776  0.213374 -0.679289          -0.096354   \n",
       "installment              0.470014  0.032384  0.109998           0.187717   \n",
       "log.annual.inc           1.000000 -0.027590  0.105770           0.342234   \n",
       "dti                     -0.027590  1.000000 -0.222464           0.093253   \n",
       "fico                     0.105770 -0.222464  1.000000           0.263120   \n",
       "days.with.cr.line        0.342234  0.093253  0.263120           1.000000   \n",
       "revol.bal                0.372457  0.160022  0.009329           0.251895   \n",
       "revol.util               0.078417  0.326170 -0.500435           0.014484   \n",
       "inq.last.6mths           0.036594  0.030055 -0.188686          -0.031736   \n",
       "delinq.2yrs              0.021930 -0.033153 -0.210431           0.071191   \n",
       "pub.rec                  0.024055  0.019376 -0.155474           0.061456   \n",
       "not.fully.paid          -0.041026  0.058015 -0.199179          -0.041605   \n",
       "\n",
       "                   revol.bal  revol.util  inq.last.6mths  delinq.2yrs  \\\n",
       "credit.policy      -0.183294   -0.095301       -0.543335    -0.059199   \n",
       "purpose             0.065036   -0.071921        0.049193     0.003047   \n",
       "int.rate            0.087130    0.417074        0.183889     0.151028   \n",
       "installment         0.244774    0.059197       -0.016854     0.000810   \n",
       "log.annual.inc      0.372457    0.078417        0.036594     0.021930   \n",
       "dti                 0.160022    0.326170        0.030055    -0.033153   \n",
       "fico                0.009329   -0.500435       -0.188686    -0.210431   \n",
       "days.with.cr.line   0.251895    0.014484       -0.031736     0.071191   \n",
       "revol.bal           1.000000    0.161268        0.042036    -0.030257   \n",
       "revol.util          0.161268    1.000000       -0.032231    -0.040760   \n",
       "inq.last.6mths      0.042036   -0.032231        1.000000     0.018464   \n",
       "delinq.2yrs        -0.030257   -0.040760        0.018464     1.000000   \n",
       "pub.rec            -0.030296    0.074139        0.095552     0.001157   \n",
       "not.fully.paid      0.059934    0.106028        0.171867     0.011340   \n",
       "\n",
       "                    pub.rec  not.fully.paid  \n",
       "credit.policy     -0.062898       -0.194886  \n",
       "purpose            0.008493        0.062390  \n",
       "int.rate           0.106161        0.205697  \n",
       "installment       -0.027508        0.069890  \n",
       "log.annual.inc     0.024055       -0.041026  \n",
       "dti                0.019376        0.058015  \n",
       "fico              -0.155474       -0.199179  \n",
       "days.with.cr.line  0.061456       -0.041605  \n",
       "revol.bal         -0.030296        0.059934  \n",
       "revol.util         0.074139        0.106028  \n",
       "inq.last.6mths     0.095552        0.171867  \n",
       "delinq.2yrs        0.001157        0.011340  \n",
       "pub.rec            1.000000        0.050653  \n",
       "not.fully.paid     0.050653        1.000000  "
      ]
     },
     "execution_count": 25,
     "metadata": {},
     "output_type": "execute_result"
    }
   ],
   "source": [
    "new_df.corr()"
   ]
  },
  {
   "cell_type": "code",
   "execution_count": 26,
   "metadata": {},
   "outputs": [
    {
     "data": {
      "text/plain": [
       "<AxesSubplot:>"
      ]
     },
     "execution_count": 26,
     "metadata": {},
     "output_type": "execute_result"
    },
    {
     "data": {
      "image/png": "[encoded data removed]",
      "text/plain": [
       "<Figure size 864x648 with 2 Axes>"
      ]
     },
     "metadata": {
      "needs_background": "light"
     },
     "output_type": "display_data"
    }
   ],
   "source": [
    "plt.figure(figsize=(12,9))\n",
    "sns.heatmap(new_df.corr(),annot=True)"
   ]
  },
  {
   "cell_type": "code",
   "execution_count": 27,
   "metadata": {},
   "outputs": [
    {
     "data": {
      "text/plain": [
       "not.fully.paid       1.000000\n",
       "int.rate             0.205697\n",
       "fico                 0.199179\n",
       "credit.policy        0.194886\n",
       "inq.last.6mths       0.171867\n",
       "revol.util           0.106028\n",
       "installment          0.069890\n",
       "purpose              0.062390\n",
       "revol.bal            0.059934\n",
       "dti                  0.058015\n",
       "pub.rec              0.050653\n",
       "days.with.cr.line    0.041605\n",
       "log.annual.inc       0.041026\n",
       "delinq.2yrs          0.011340\n",
       "Name: not.fully.paid, dtype: float64"
      ]
     },
     "execution_count": 27,
     "metadata": {},
     "output_type": "execute_result"
    }
   ],
   "source": [
    "# see the sorted corrleation result\n",
    "\n",
    "new_df.corr().abs()['not.fully.paid'].sort_values(ascending=False)"
   ]
  },
  {
   "cell_type": "code",
   "execution_count": 28,
   "metadata": {},
   "outputs": [],
   "source": [
    "# take columns with respect to corrleation\n",
    "X=new_df[['credit.policy','purpose', 'int.rate', 'installment','fico','revol.bal','revol.util','inq.last.6mths','pub.rec']]"
   ]
  },
  {
   "cell_type": "code",
   "execution_count": 29,
   "metadata": {},
   "outputs": [],
   "source": [
    "y=new_df['not.fully.paid']"
   ]
  },
  {
   "cell_type": "code",
   "execution_count": 30,
   "metadata": {},
   "outputs": [],
   "source": [
    "# create a train test splt\n",
    "from sklearn.model_selection import train_test_split\n"
   ]
  },
  {
   "cell_type": "code",
   "execution_count": 31,
   "metadata": {},
   "outputs": [],
   "source": [
    "X_train,X_test,y_train,y_test=train_test_split(X,y,test_size=.2,random_state=42)"
   ]
  },
  {
   "cell_type": "code",
   "execution_count": 32,
   "metadata": {},
   "outputs": [],
   "source": [
    "# Apply scaling\n",
    "from sklearn.preprocessing import StandardScaler\n",
    "sc=StandardScaler()"
   ]
  },
  {
   "cell_type": "code",
   "execution_count": 33,
   "metadata": {},
   "outputs": [],
   "source": [
    "X_train=sc.fit_transform(X_train)\n",
    "X_test=sc.transform(X_test)"
   ]
  },
  {
   "cell_type": "code",
   "execution_count": 34,
   "metadata": {},
   "outputs": [
    {
     "data": {
      "text/plain": [
       "(12872, 9)"
      ]
     },
     "execution_count": 34,
     "metadata": {},
     "output_type": "execute_result"
    }
   ],
   "source": [
    "X_train.shape"
   ]
  },
  {
   "cell_type": "code",
   "execution_count": 35,
   "metadata": {},
   "outputs": [
    {
     "data": {
      "text/plain": [
       "(3218, 9)"
      ]
     },
     "execution_count": 35,
     "metadata": {},
     "output_type": "execute_result"
    }
   ],
   "source": [
    "X_test.shape"
   ]
  },
  {
   "cell_type": "markdown",
   "metadata": {},
   "source": [
    "# Create a deep learning keras with tensorflow"
   ]
  },
  {
   "cell_type": "code",
   "execution_count": 36,
   "metadata": {},
   "outputs": [],
   "source": [
    "from tensorflow.keras.models import Sequential\n",
    "from tensorflow.keras.layers import Dense,Dropout\n",
    "from tensorflow.keras.callbacks import EarlyStopping"
   ]
  },
  {
   "cell_type": "code",
   "execution_count": 37,
   "metadata": {},
   "outputs": [],
   "source": [
    "\n",
    "# create the architecture\n",
    "model=Sequential()\n",
    "model.add(Dense(19,activation='relu',input_shape=[9]))\n",
    "model.add(Dropout(0.20))\n",
    "\n",
    "model.add(Dense(10,activation='relu'))\n",
    "model.add(Dropout(0.20))\n",
    "\n",
    "# output layer\n",
    "model.add(Dense(1,activation='sigmoid'))"
   ]
  },
  {
   "cell_type": "code",
   "execution_count": 38,
   "metadata": {},
   "outputs": [
    {
     "name": "stdout",
     "output_type": "stream",
     "text": [
      "Model: \"sequential\"\n",
      "_________________________________________________________________\n",
      " Layer (type)                Output Shape              Param #   \n",
      "=================================================================\n",
      " dense (Dense)               (None, 19)                190       \n",
      "                                                                 \n",
      " dropout (Dropout)           (None, 19)                0         \n",
      "                                                                 \n",
      " dense_1 (Dense)             (None, 10)                200       \n",
      "                                                                 \n",
      " dropout_1 (Dropout)         (None, 10)                0         \n",
      "                                                                 \n",
      " dense_2 (Dense)             (None, 1)                 11        \n",
      "                                                                 \n",
      "=================================================================\n",
      "Total params: 401\n",
      "Trainable params: 401\n",
      "Non-trainable params: 0\n",
      "_________________________________________________________________\n"
     ]
    }
   ],
   "source": [
    "model.summary()"
   ]
  },
  {
   "cell_type": "code",
   "execution_count": 39,
   "metadata": {},
   "outputs": [],
   "source": [
    "#compile model\n",
    "model.compile(loss='binary_crossentropy',optimizer='adam',metrics=['accuracy'])"
   ]
  },
  {
   "cell_type": "code",
   "execution_count": 40,
   "metadata": {},
   "outputs": [],
   "source": [
    "early_stop =EarlyStopping( monitor='val_loss',min_delta=0.001,mode='min',patience=10,verbose=1) "
   ]
  },
  {
   "cell_type": "code",
   "execution_count": 41,
   "metadata": {},
   "outputs": [
    {
     "name": "stdout",
     "output_type": "stream",
     "text": [
      "Epoch 1/50\n",
      "51/51 [==============================] - 1s 4ms/step - loss: 0.7168 - accuracy: 0.5332 - val_loss: 0.6653 - val_accuracy: 0.5914\n",
      "Epoch 2/50\n",
      "51/51 [==============================] - 0s 2ms/step - loss: 0.6817 - accuracy: 0.5761 - val_loss: 0.6578 - val_accuracy: 0.6022\n",
      "Epoch 3/50\n",
      "51/51 [==============================] - 0s 2ms/step - loss: 0.6785 - accuracy: 0.5754 - val_loss: 0.6554 - val_accuracy: 0.6109\n",
      "Epoch 4/50\n",
      "51/51 [==============================] - 0s 2ms/step - loss: 0.6678 - accuracy: 0.5851 - val_loss: 0.6536 - val_accuracy: 0.6085\n",
      "Epoch 5/50\n",
      "51/51 [==============================] - 0s 2ms/step - loss: 0.6684 - accuracy: 0.5852 - val_loss: 0.6529 - val_accuracy: 0.6085\n",
      "Epoch 6/50\n",
      "51/51 [==============================] - 0s 2ms/step - loss: 0.6633 - accuracy: 0.5938 - val_loss: 0.6519 - val_accuracy: 0.6122\n",
      "Epoch 7/50\n",
      "51/51 [==============================] - 0s 2ms/step - loss: 0.6619 - accuracy: 0.5958 - val_loss: 0.6511 - val_accuracy: 0.6103\n",
      "Epoch 8/50\n",
      "51/51 [==============================] - 0s 2ms/step - loss: 0.6607 - accuracy: 0.5954 - val_loss: 0.6510 - val_accuracy: 0.6088\n",
      "Epoch 9/50\n",
      "51/51 [==============================] - 0s 2ms/step - loss: 0.6585 - accuracy: 0.5959 - val_loss: 0.6503 - val_accuracy: 0.6081\n",
      "Epoch 10/50\n",
      "51/51 [==============================] - 0s 2ms/step - loss: 0.6562 - accuracy: 0.6045 - val_loss: 0.6496 - val_accuracy: 0.6094\n",
      "Epoch 11/50\n",
      "51/51 [==============================] - 0s 2ms/step - loss: 0.6567 - accuracy: 0.6052 - val_loss: 0.6491 - val_accuracy: 0.6112\n",
      "Epoch 12/50\n",
      "51/51 [==============================] - 0s 2ms/step - loss: 0.6566 - accuracy: 0.6047 - val_loss: 0.6487 - val_accuracy: 0.6134\n",
      "Epoch 13/50\n",
      "51/51 [==============================] - 0s 2ms/step - loss: 0.6557 - accuracy: 0.6071 - val_loss: 0.6486 - val_accuracy: 0.6125\n",
      "Epoch 14/50\n",
      "51/51 [==============================] - 0s 2ms/step - loss: 0.6543 - accuracy: 0.6057 - val_loss: 0.6480 - val_accuracy: 0.6112\n",
      "Epoch 15/50\n",
      "51/51 [==============================] - 0s 2ms/step - loss: 0.6572 - accuracy: 0.6060 - val_loss: 0.6481 - val_accuracy: 0.6137\n",
      "Epoch 16/50\n",
      "51/51 [==============================] - 0s 2ms/step - loss: 0.6526 - accuracy: 0.6096 - val_loss: 0.6473 - val_accuracy: 0.6109\n",
      "Epoch 17/50\n",
      "51/51 [==============================] - 0s 2ms/step - loss: 0.6528 - accuracy: 0.6103 - val_loss: 0.6471 - val_accuracy: 0.6181\n",
      "Epoch 18/50\n",
      "51/51 [==============================] - 0s 2ms/step - loss: 0.6558 - accuracy: 0.6067 - val_loss: 0.6469 - val_accuracy: 0.6147\n",
      "Epoch 19/50\n",
      "51/51 [==============================] - 0s 2ms/step - loss: 0.6530 - accuracy: 0.6098 - val_loss: 0.6466 - val_accuracy: 0.6122\n",
      "Epoch 20/50\n",
      "51/51 [==============================] - 0s 2ms/step - loss: 0.6519 - accuracy: 0.6106 - val_loss: 0.6459 - val_accuracy: 0.6140\n",
      "Epoch 21/50\n",
      "51/51 [==============================] - 0s 2ms/step - loss: 0.6511 - accuracy: 0.6116 - val_loss: 0.6459 - val_accuracy: 0.6156\n",
      "Epoch 22/50\n",
      "51/51 [==============================] - 0s 2ms/step - loss: 0.6539 - accuracy: 0.6132 - val_loss: 0.6457 - val_accuracy: 0.6168\n",
      "Epoch 23/50\n",
      "51/51 [==============================] - 0s 2ms/step - loss: 0.6514 - accuracy: 0.6135 - val_loss: 0.6452 - val_accuracy: 0.6134\n",
      "Epoch 24/50\n",
      "51/51 [==============================] - 0s 2ms/step - loss: 0.6497 - accuracy: 0.6161 - val_loss: 0.6452 - val_accuracy: 0.6137\n",
      "Epoch 25/50\n",
      "51/51 [==============================] - 0s 2ms/step - loss: 0.6504 - accuracy: 0.6148 - val_loss: 0.6451 - val_accuracy: 0.6140\n",
      "Epoch 26/50\n",
      "51/51 [==============================] - 0s 2ms/step - loss: 0.6508 - accuracy: 0.6112 - val_loss: 0.6447 - val_accuracy: 0.6153\n",
      "Epoch 27/50\n",
      "51/51 [==============================] - 0s 2ms/step - loss: 0.6524 - accuracy: 0.6119 - val_loss: 0.6446 - val_accuracy: 0.6150\n",
      "Epoch 28/50\n",
      "51/51 [==============================] - 0s 2ms/step - loss: 0.6510 - accuracy: 0.6141 - val_loss: 0.6443 - val_accuracy: 0.6144\n",
      "Epoch 29/50\n",
      "51/51 [==============================] - 0s 2ms/step - loss: 0.6496 - accuracy: 0.6140 - val_loss: 0.6443 - val_accuracy: 0.6168\n",
      "Epoch 30/50\n",
      "51/51 [==============================] - 0s 2ms/step - loss: 0.6499 - accuracy: 0.6154 - val_loss: 0.6441 - val_accuracy: 0.6168\n",
      "Epoch 31/50\n",
      "51/51 [==============================] - 0s 2ms/step - loss: 0.6487 - accuracy: 0.6119 - val_loss: 0.6442 - val_accuracy: 0.6153\n",
      "Epoch 32/50\n",
      "51/51 [==============================] - 0s 2ms/step - loss: 0.6504 - accuracy: 0.6127 - val_loss: 0.6439 - val_accuracy: 0.6181\n",
      "Epoch 33/50\n",
      "51/51 [==============================] - 0s 2ms/step - loss: 0.6503 - accuracy: 0.6081 - val_loss: 0.6438 - val_accuracy: 0.6178\n",
      "Epoch 34/50\n",
      "51/51 [==============================] - 0s 2ms/step - loss: 0.6494 - accuracy: 0.6125 - val_loss: 0.6434 - val_accuracy: 0.6144\n",
      "Epoch 35/50\n",
      "51/51 [==============================] - 0s 2ms/step - loss: 0.6490 - accuracy: 0.6169 - val_loss: 0.6434 - val_accuracy: 0.6178\n",
      "Epoch 36/50\n",
      "51/51 [==============================] - 0s 2ms/step - loss: 0.6491 - accuracy: 0.6152 - val_loss: 0.6435 - val_accuracy: 0.6147\n",
      "Epoch 37/50\n",
      "51/51 [==============================] - 0s 2ms/step - loss: 0.6475 - accuracy: 0.6120 - val_loss: 0.6427 - val_accuracy: 0.6200\n",
      "Epoch 38/50\n",
      "51/51 [==============================] - 0s 2ms/step - loss: 0.6497 - accuracy: 0.6176 - val_loss: 0.6434 - val_accuracy: 0.6172\n",
      "Epoch 39/50\n",
      "51/51 [==============================] - 0s 2ms/step - loss: 0.6483 - accuracy: 0.6154 - val_loss: 0.6432 - val_accuracy: 0.6203\n",
      "Epoch 40/50\n",
      "51/51 [==============================] - 0s 2ms/step - loss: 0.6497 - accuracy: 0.6171 - val_loss: 0.6430 - val_accuracy: 0.6172\n",
      "Epoch 41/50\n",
      "51/51 [==============================] - 0s 2ms/step - loss: 0.6484 - accuracy: 0.6146 - val_loss: 0.6428 - val_accuracy: 0.6187\n",
      "Epoch 42/50\n",
      "51/51 [==============================] - 0s 2ms/step - loss: 0.6470 - accuracy: 0.6193 - val_loss: 0.6429 - val_accuracy: 0.6159\n",
      "Epoch 43/50\n",
      "51/51 [==============================] - 0s 2ms/step - loss: 0.6488 - accuracy: 0.6137 - val_loss: 0.6430 - val_accuracy: 0.6165\n",
      "Epoch 44/50\n",
      "51/51 [==============================] - 0s 2ms/step - loss: 0.6487 - accuracy: 0.6123 - val_loss: 0.6430 - val_accuracy: 0.6187\n",
      "Epoch 44: early stopping\n"
     ]
    }
   ],
   "source": [
    "history=model.fit(X_train,y_train,\n",
    "          epochs=50,\n",
    "          batch_size=256,\n",
    "          validation_data=(X_test,y_test),\n",
    "          callbacks=[early_stop])"
   ]
  },
  {
   "cell_type": "code",
   "execution_count": 42,
   "metadata": {},
   "outputs": [
    {
     "data": {
      "text/plain": [
       "<keras.callbacks.History at 0x7f419e248710>"
      ]
     },
     "execution_count": 42,
     "metadata": {},
     "output_type": "execute_result"
    }
   ],
   "source": [
    "history"
   ]
  },
  {
   "cell_type": "code",
   "execution_count": 43,
   "metadata": {
    "tags": []
   },
   "outputs": [
    {
     "name": "stdout",
     "output_type": "stream",
     "text": [
      "Epoch 1/50\n",
      "51/51 [==============================] - 0s 2ms/step - loss: 0.6479 - accuracy: 0.6149 - val_loss: 0.6425 - val_accuracy: 0.6196\n",
      "Epoch 2/50\n",
      "51/51 [==============================] - 0s 2ms/step - loss: 0.6475 - accuracy: 0.6179 - val_loss: 0.6425 - val_accuracy: 0.6184\n",
      "Epoch 3/50\n",
      "51/51 [==============================] - 0s 2ms/step - loss: 0.6477 - accuracy: 0.6127 - val_loss: 0.6430 - val_accuracy: 0.6181\n",
      "Epoch 4/50\n",
      "51/51 [==============================] - 0s 2ms/step - loss: 0.6445 - accuracy: 0.6202 - val_loss: 0.6423 - val_accuracy: 0.6193\n",
      "Epoch 5/50\n",
      "51/51 [==============================] - 0s 2ms/step - loss: 0.6487 - accuracy: 0.6133 - val_loss: 0.6430 - val_accuracy: 0.6193\n",
      "Epoch 6/50\n",
      "51/51 [==============================] - 0s 2ms/step - loss: 0.6461 - accuracy: 0.6187 - val_loss: 0.6426 - val_accuracy: 0.6147\n",
      "Epoch 7/50\n",
      "51/51 [==============================] - 0s 2ms/step - loss: 0.6468 - accuracy: 0.6161 - val_loss: 0.6422 - val_accuracy: 0.6165\n",
      "Epoch 8/50\n",
      "51/51 [==============================] - 0s 2ms/step - loss: 0.6464 - accuracy: 0.6185 - val_loss: 0.6419 - val_accuracy: 0.6218\n",
      "Epoch 9/50\n",
      "51/51 [==============================] - 0s 2ms/step - loss: 0.6482 - accuracy: 0.6173 - val_loss: 0.6421 - val_accuracy: 0.6237\n",
      "Epoch 10/50\n",
      "51/51 [==============================] - 0s 2ms/step - loss: 0.6462 - accuracy: 0.6210 - val_loss: 0.6419 - val_accuracy: 0.6206\n",
      "Epoch 11/50\n",
      "51/51 [==============================] - 0s 2ms/step - loss: 0.6468 - accuracy: 0.6172 - val_loss: 0.6417 - val_accuracy: 0.6203\n",
      "Epoch 12/50\n",
      "51/51 [==============================] - 0s 2ms/step - loss: 0.6472 - accuracy: 0.6182 - val_loss: 0.6422 - val_accuracy: 0.6178\n",
      "Epoch 13/50\n",
      "51/51 [==============================] - 0s 2ms/step - loss: 0.6479 - accuracy: 0.6177 - val_loss: 0.6417 - val_accuracy: 0.6162\n",
      "Epoch 14/50\n",
      "51/51 [==============================] - 0s 2ms/step - loss: 0.6473 - accuracy: 0.6184 - val_loss: 0.6417 - val_accuracy: 0.6218\n",
      "Epoch 15/50\n",
      "51/51 [==============================] - 0s 2ms/step - loss: 0.6446 - accuracy: 0.6220 - val_loss: 0.6413 - val_accuracy: 0.6215\n",
      "Epoch 16/50\n",
      "51/51 [==============================] - 0s 2ms/step - loss: 0.6447 - accuracy: 0.6220 - val_loss: 0.6412 - val_accuracy: 0.6262\n",
      "Epoch 17/50\n",
      "51/51 [==============================] - 0s 2ms/step - loss: 0.6457 - accuracy: 0.6155 - val_loss: 0.6411 - val_accuracy: 0.6271\n",
      "Epoch 18/50\n",
      "51/51 [==============================] - 0s 2ms/step - loss: 0.6472 - accuracy: 0.6198 - val_loss: 0.6421 - val_accuracy: 0.6209\n",
      "Epoch 19/50\n",
      "51/51 [==============================] - 0s 2ms/step - loss: 0.6446 - accuracy: 0.6193 - val_loss: 0.6416 - val_accuracy: 0.6234\n",
      "Epoch 20/50\n",
      "51/51 [==============================] - 0s 2ms/step - loss: 0.6451 - accuracy: 0.6223 - val_loss: 0.6416 - val_accuracy: 0.6243\n",
      "Epoch 21/50\n",
      "51/51 [==============================] - 0s 2ms/step - loss: 0.6469 - accuracy: 0.6171 - val_loss: 0.6417 - val_accuracy: 0.6246\n",
      "Epoch 22/50\n",
      "51/51 [==============================] - 0s 2ms/step - loss: 0.6463 - accuracy: 0.6186 - val_loss: 0.6416 - val_accuracy: 0.6209\n",
      "Epoch 23/50\n",
      "51/51 [==============================] - 0s 2ms/step - loss: 0.6443 - accuracy: 0.6195 - val_loss: 0.6411 - val_accuracy: 0.6215\n",
      "Epoch 24/50\n",
      "51/51 [==============================] - 0s 2ms/step - loss: 0.6455 - accuracy: 0.6193 - val_loss: 0.6409 - val_accuracy: 0.6190\n",
      "Epoch 25/50\n",
      "51/51 [==============================] - 0s 2ms/step - loss: 0.6452 - accuracy: 0.6196 - val_loss: 0.6414 - val_accuracy: 0.6224\n",
      "Epoch 26/50\n",
      "51/51 [==============================] - 0s 2ms/step - loss: 0.6444 - accuracy: 0.6229 - val_loss: 0.6410 - val_accuracy: 0.6227\n",
      "Epoch 27/50\n",
      "51/51 [==============================] - 0s 2ms/step - loss: 0.6453 - accuracy: 0.6223 - val_loss: 0.6409 - val_accuracy: 0.6231\n",
      "Epoch 28/50\n",
      "51/51 [==============================] - 0s 2ms/step - loss: 0.6446 - accuracy: 0.6225 - val_loss: 0.6404 - val_accuracy: 0.6252\n",
      "Epoch 29/50\n",
      "51/51 [==============================] - 0s 2ms/step - loss: 0.6448 - accuracy: 0.6209 - val_loss: 0.6403 - val_accuracy: 0.6231\n",
      "Epoch 30/50\n",
      "51/51 [==============================] - 0s 2ms/step - loss: 0.6439 - accuracy: 0.6211 - val_loss: 0.6407 - val_accuracy: 0.6200\n",
      "Epoch 31/50\n",
      "51/51 [==============================] - 0s 2ms/step - loss: 0.6445 - accuracy: 0.6273 - val_loss: 0.6403 - val_accuracy: 0.6227\n",
      "Epoch 32/50\n",
      "51/51 [==============================] - 0s 2ms/step - loss: 0.6456 - accuracy: 0.6241 - val_loss: 0.6403 - val_accuracy: 0.6215\n",
      "Epoch 33/50\n",
      "51/51 [==============================] - 0s 2ms/step - loss: 0.6438 - accuracy: 0.6219 - val_loss: 0.6401 - val_accuracy: 0.6212\n",
      "Epoch 34/50\n",
      "51/51 [==============================] - 0s 2ms/step - loss: 0.6450 - accuracy: 0.6210 - val_loss: 0.6396 - val_accuracy: 0.6187\n",
      "Epoch 35/50\n",
      "51/51 [==============================] - 0s 2ms/step - loss: 0.6444 - accuracy: 0.6211 - val_loss: 0.6403 - val_accuracy: 0.6240\n",
      "Epoch 36/50\n",
      "51/51 [==============================] - 0s 2ms/step - loss: 0.6432 - accuracy: 0.6255 - val_loss: 0.6399 - val_accuracy: 0.6203\n",
      "Epoch 37/50\n",
      "51/51 [==============================] - 0s 2ms/step - loss: 0.6422 - accuracy: 0.6262 - val_loss: 0.6397 - val_accuracy: 0.6243\n",
      "Epoch 38/50\n",
      "51/51 [==============================] - 0s 2ms/step - loss: 0.6440 - accuracy: 0.6261 - val_loss: 0.6397 - val_accuracy: 0.6231\n",
      "Epoch 39/50\n",
      "51/51 [==============================] - 0s 2ms/step - loss: 0.6433 - accuracy: 0.6228 - val_loss: 0.6397 - val_accuracy: 0.6215\n",
      "Epoch 40/50\n",
      "51/51 [==============================] - 0s 2ms/step - loss: 0.6430 - accuracy: 0.6261 - val_loss: 0.6397 - val_accuracy: 0.6224\n",
      "Epoch 41/50\n",
      "51/51 [==============================] - 0s 2ms/step - loss: 0.6431 - accuracy: 0.6196 - val_loss: 0.6393 - val_accuracy: 0.6196\n",
      "Epoch 42/50\n",
      "51/51 [==============================] - 0s 2ms/step - loss: 0.6434 - accuracy: 0.6258 - val_loss: 0.6397 - val_accuracy: 0.6240\n",
      "Epoch 43/50\n",
      "51/51 [==============================] - 0s 2ms/step - loss: 0.6449 - accuracy: 0.6234 - val_loss: 0.6398 - val_accuracy: 0.6255\n",
      "Epoch 44/50\n",
      "51/51 [==============================] - 0s 2ms/step - loss: 0.6436 - accuracy: 0.6231 - val_loss: 0.6398 - val_accuracy: 0.6227\n",
      "Epoch 45/50\n",
      "51/51 [==============================] - 0s 2ms/step - loss: 0.6431 - accuracy: 0.6248 - val_loss: 0.6395 - val_accuracy: 0.6240\n",
      "Epoch 46/50\n",
      "51/51 [==============================] - 0s 2ms/step - loss: 0.6437 - accuracy: 0.6217 - val_loss: 0.6396 - val_accuracy: 0.6209\n",
      "Epoch 47/50\n",
      "51/51 [==============================] - 0s 2ms/step - loss: 0.6429 - accuracy: 0.6228 - val_loss: 0.6394 - val_accuracy: 0.6221\n",
      "Epoch 48/50\n",
      "51/51 [==============================] - 0s 2ms/step - loss: 0.6420 - accuracy: 0.6228 - val_loss: 0.6388 - val_accuracy: 0.6255\n",
      "Epoch 49/50\n",
      "51/51 [==============================] - 0s 2ms/step - loss: 0.6449 - accuracy: 0.6210 - val_loss: 0.6402 - val_accuracy: 0.6190\n",
      "Epoch 50/50\n",
      "51/51 [==============================] - 0s 2ms/step - loss: 0.6422 - accuracy: 0.6200 - val_loss: 0.6394 - val_accuracy: 0.6215\n"
     ]
    }
   ],
   "source": [
    "history=model.fit(X_train,y_train,\n",
    "          epochs=50,\n",
    "          batch_size=256,\n",
    "          validation_data=(X_test,y_test))"
   ]
  },
  {
   "cell_type": "code",
   "execution_count": 44,
   "metadata": {},
   "outputs": [
    {
     "name": "stdout",
     "output_type": "stream",
     "text": [
      "101/101 [==============================] - 0s 828us/step - loss: 0.6394 - accuracy: 0.6215\n"
     ]
    },
    {
     "data": {
      "text/plain": [
       "[0.6394385695457458, 0.6215040683746338]"
      ]
     },
     "execution_count": 44,
     "metadata": {},
     "output_type": "execute_result"
    }
   ],
   "source": [
    "model.evaluate(X_test,y_test)"
   ]
  },
  {
   "cell_type": "code",
   "execution_count": 45,
   "metadata": {},
   "outputs": [],
   "source": [
    "y_pred=model.predict(X_test)"
   ]
  },
  {
   "cell_type": "code",
   "execution_count": 46,
   "metadata": {},
   "outputs": [
    {
     "data": {
      "text/plain": [
       "array([[0.49597514],\n",
       "       [0.6011866 ],\n",
       "       [0.36741394],\n",
       "       ...,\n",
       "       [0.4140299 ],\n",
       "       [0.6708174 ],\n",
       "       [0.6873083 ]], dtype=float32)"
      ]
     },
     "execution_count": 46,
     "metadata": {},
     "output_type": "execute_result"
    }
   ],
   "source": [
    "y_pred"
   ]
  },
  {
   "cell_type": "code",
   "execution_count": 47,
   "metadata": {},
   "outputs": [],
   "source": [
    "\n",
    "predictions=(y_pred>0.5).astype('int')"
   ]
  },
  {
   "cell_type": "code",
   "execution_count": 48,
   "metadata": {},
   "outputs": [
    {
     "data": {
      "text/plain": [
       "array([[0],\n",
       "       [1],\n",
       "       [0],\n",
       "       ...,\n",
       "       [0],\n",
       "       [1],\n",
       "       [1]])"
      ]
     },
     "execution_count": 48,
     "metadata": {},
     "output_type": "execute_result"
    }
   ],
   "source": [
    "predictions"
   ]
  },
  {
   "cell_type": "code",
   "execution_count": 49,
   "metadata": {},
   "outputs": [
    {
     "data": {
      "text/plain": [
       "201     1\n",
       "5025    1\n",
       "4066    1\n",
       "8642    0\n",
       "7866    1\n",
       "       ..\n",
       "8580    1\n",
       "9340    1\n",
       "6737    0\n",
       "9071    1\n",
       "9021    1\n",
       "Name: not.fully.paid, Length: 3218, dtype: int64"
      ]
     },
     "execution_count": 49,
     "metadata": {},
     "output_type": "execute_result"
    }
   ],
   "source": [
    "y_test"
   ]
  },
  {
   "cell_type": "code",
   "execution_count": 50,
   "metadata": {},
   "outputs": [
    {
     "data": {
      "text/plain": [
       "0.6215040397762586"
      ]
     },
     "execution_count": 50,
     "metadata": {},
     "output_type": "execute_result"
    }
   ],
   "source": [
    "from sklearn.metrics import accuracy_score,confusion_matrix,classification_report\n",
    "accuracy_score(predictions,y_test)"
   ]
  },
  {
   "cell_type": "code",
   "execution_count": 51,
   "metadata": {},
   "outputs": [
    {
     "name": "stdout",
     "output_type": "stream",
     "text": [
      "              precision    recall  f1-score   support\n",
      "\n",
      "           0       0.64      0.62      0.63      1659\n",
      "           1       0.61      0.63      0.62      1559\n",
      "\n",
      "    accuracy                           0.62      3218\n",
      "   macro avg       0.62      0.62      0.62      3218\n",
      "weighted avg       0.62      0.62      0.62      3218\n",
      "\n"
     ]
    }
   ],
   "source": [
    "print(classification_report(predictions,y_test))"
   ]
  },
  {
   "cell_type": "code",
   "execution_count": 52,
   "metadata": {},
   "outputs": [],
   "source": [
    "model.save('loan_default1.h5')"
   ]
  },
  {
   "cell_type": "code",
   "execution_count": 53,
   "metadata": {},
   "outputs": [],
   "source": [
    "# batch Normalization\n",
    "from tensorflow.keras.layers import BatchNormalization"
   ]
  },
  {
   "cell_type": "code",
   "execution_count": 54,
   "metadata": {},
   "outputs": [],
   "source": [
    "\n",
    "# create the architecture model2\n",
    "# First ANN layer\n",
    "model1=Sequential()\n",
    "model1.add(Dense(128,activation='relu',input_shape=[9]))\n",
    "model1.add(BatchNormalization())\n",
    "model1.add(Dropout(0.20))\n",
    "\n",
    "# Second ANN layer\n",
    "model1.add(Dense(64,activation='tanh'))\n",
    "model1.add(BatchNormalization())\n",
    "model1.add(Dropout(0.20))\n",
    "           \n",
    "\n",
    "# third ANN layer\n",
    "model1.add(Dense(32,activation='relu'))\n",
    "model1.add(BatchNormalization())\n",
    "model1.add(Dropout(0.20))\n",
    "\n",
    "# output layer\n",
    "model1.add(Dense(1,activation='sigmoid'))"
   ]
  },
  {
   "cell_type": "code",
   "execution_count": 55,
   "metadata": {},
   "outputs": [
    {
     "name": "stdout",
     "output_type": "stream",
     "text": [
      "Model: \"sequential_1\"\n",
      "_________________________________________________________________\n",
      " Layer (type)                Output Shape              Param #   \n",
      "=================================================================\n",
      " dense_3 (Dense)             (None, 128)               1280      \n",
      "                                                                 \n",
      " batch_normalization (BatchN  (None, 128)              512       \n",
      " ormalization)                                                   \n",
      "                                                                 \n",
      " dropout_2 (Dropout)         (None, 128)               0         \n",
      "                                                                 \n",
      " dense_4 (Dense)             (None, 64)                8256      \n",
      "                                                                 \n",
      " batch_normalization_1 (Batc  (None, 64)               256       \n",
      " hNormalization)                                                 \n",
      "                                                                 \n",
      " dropout_3 (Dropout)         (None, 64)                0         \n",
      "                                                                 \n",
      " dense_5 (Dense)             (None, 32)                2080      \n",
      "                                                                 \n",
      " batch_normalization_2 (Batc  (None, 32)               128       \n",
      " hNormalization)                                                 \n",
      "                                                                 \n",
      " dropout_4 (Dropout)         (None, 32)                0         \n",
      "                                                                 \n",
      " dense_6 (Dense)             (None, 1)                 33        \n",
      "                                                                 \n",
      "=================================================================\n",
      "Total params: 12,545\n",
      "Trainable params: 12,097\n",
      "Non-trainable params: 448\n",
      "_________________________________________________________________\n"
     ]
    }
   ],
   "source": [
    "model1.summary()"
   ]
  },
  {
   "cell_type": "code",
   "execution_count": 56,
   "metadata": {},
   "outputs": [],
   "source": [
    "# compile the model\n",
    "model1.compile(loss='binary_crossentropy',optimizer='adam',metrics=['accuracy'])"
   ]
  },
  {
   "cell_type": "code",
   "execution_count": 57,
   "metadata": {},
   "outputs": [
    {
     "name": "stdout",
     "output_type": "stream",
     "text": [
      "Epoch 1/100\n",
      "51/51 [==============================] - 1s 10ms/step - loss: 0.7692 - accuracy: 0.5635 - val_loss: 0.6613 - val_accuracy: 0.5970\n",
      "Epoch 2/100\n",
      "51/51 [==============================] - 0s 4ms/step - loss: 0.7133 - accuracy: 0.5794 - val_loss: 0.6523 - val_accuracy: 0.6106\n",
      "Epoch 3/100\n",
      "51/51 [==============================] - 0s 4ms/step - loss: 0.6928 - accuracy: 0.5883 - val_loss: 0.6472 - val_accuracy: 0.6134\n",
      "Epoch 4/100\n",
      "51/51 [==============================] - 0s 4ms/step - loss: 0.6764 - accuracy: 0.5999 - val_loss: 0.6439 - val_accuracy: 0.6165\n",
      "Epoch 5/100\n",
      "51/51 [==============================] - 0s 4ms/step - loss: 0.6672 - accuracy: 0.6015 - val_loss: 0.6395 - val_accuracy: 0.6212\n",
      "Epoch 6/100\n",
      "51/51 [==============================] - 0s 4ms/step - loss: 0.6646 - accuracy: 0.6071 - val_loss: 0.6388 - val_accuracy: 0.6271\n",
      "Epoch 7/100\n",
      "51/51 [==============================] - 0s 4ms/step - loss: 0.6594 - accuracy: 0.6101 - val_loss: 0.6368 - val_accuracy: 0.6249\n",
      "Epoch 8/100\n",
      "51/51 [==============================] - 0s 4ms/step - loss: 0.6602 - accuracy: 0.6078 - val_loss: 0.6357 - val_accuracy: 0.6342\n",
      "Epoch 9/100\n",
      "51/51 [==============================] - 0s 4ms/step - loss: 0.6498 - accuracy: 0.6178 - val_loss: 0.6348 - val_accuracy: 0.6374\n",
      "Epoch 10/100\n",
      "51/51 [==============================] - 0s 4ms/step - loss: 0.6501 - accuracy: 0.6193 - val_loss: 0.6342 - val_accuracy: 0.6349\n",
      "Epoch 11/100\n",
      "51/51 [==============================] - 0s 4ms/step - loss: 0.6473 - accuracy: 0.6241 - val_loss: 0.6349 - val_accuracy: 0.6374\n",
      "Epoch 12/100\n",
      "51/51 [==============================] - 0s 4ms/step - loss: 0.6457 - accuracy: 0.6200 - val_loss: 0.6332 - val_accuracy: 0.6377\n",
      "Epoch 13/100\n",
      "51/51 [==============================] - 0s 4ms/step - loss: 0.6421 - accuracy: 0.6269 - val_loss: 0.6324 - val_accuracy: 0.6417\n",
      "Epoch 14/100\n",
      "51/51 [==============================] - 0s 4ms/step - loss: 0.6430 - accuracy: 0.6276 - val_loss: 0.6322 - val_accuracy: 0.6417\n",
      "Epoch 15/100\n",
      "51/51 [==============================] - 0s 4ms/step - loss: 0.6398 - accuracy: 0.6304 - val_loss: 0.6318 - val_accuracy: 0.6401\n",
      "Epoch 16/100\n",
      "51/51 [==============================] - 0s 4ms/step - loss: 0.6413 - accuracy: 0.6318 - val_loss: 0.6312 - val_accuracy: 0.6485\n",
      "Epoch 17/100\n",
      "51/51 [==============================] - 0s 4ms/step - loss: 0.6397 - accuracy: 0.6314 - val_loss: 0.6288 - val_accuracy: 0.6445\n",
      "Epoch 18/100\n",
      "51/51 [==============================] - 0s 4ms/step - loss: 0.6378 - accuracy: 0.6312 - val_loss: 0.6298 - val_accuracy: 0.6411\n",
      "Epoch 19/100\n",
      "51/51 [==============================] - 0s 4ms/step - loss: 0.6384 - accuracy: 0.6338 - val_loss: 0.6307 - val_accuracy: 0.6489\n",
      "Epoch 20/100\n",
      "51/51 [==============================] - 0s 4ms/step - loss: 0.6366 - accuracy: 0.6302 - val_loss: 0.6304 - val_accuracy: 0.6445\n",
      "Epoch 21/100\n",
      "51/51 [==============================] - 0s 4ms/step - loss: 0.6355 - accuracy: 0.6370 - val_loss: 0.6281 - val_accuracy: 0.6523\n",
      "Epoch 22/100\n",
      "51/51 [==============================] - 0s 4ms/step - loss: 0.6342 - accuracy: 0.6372 - val_loss: 0.6282 - val_accuracy: 0.6479\n",
      "Epoch 23/100\n",
      "51/51 [==============================] - 0s 4ms/step - loss: 0.6342 - accuracy: 0.6329 - val_loss: 0.6287 - val_accuracy: 0.6448\n",
      "Epoch 24/100\n",
      "51/51 [==============================] - 0s 4ms/step - loss: 0.6323 - accuracy: 0.6388 - val_loss: 0.6281 - val_accuracy: 0.6510\n",
      "Epoch 25/100\n",
      "51/51 [==============================] - 0s 4ms/step - loss: 0.6335 - accuracy: 0.6397 - val_loss: 0.6274 - val_accuracy: 0.6510\n",
      "Epoch 26/100\n",
      "51/51 [==============================] - 0s 4ms/step - loss: 0.6316 - accuracy: 0.6380 - val_loss: 0.6252 - val_accuracy: 0.6504\n",
      "Epoch 27/100\n",
      "51/51 [==============================] - 0s 4ms/step - loss: 0.6328 - accuracy: 0.6410 - val_loss: 0.6245 - val_accuracy: 0.6554\n",
      "Epoch 28/100\n",
      "51/51 [==============================] - 0s 4ms/step - loss: 0.6268 - accuracy: 0.6448 - val_loss: 0.6263 - val_accuracy: 0.6520\n",
      "Epoch 29/100\n",
      "51/51 [==============================] - 0s 4ms/step - loss: 0.6292 - accuracy: 0.6416 - val_loss: 0.6240 - val_accuracy: 0.6510\n",
      "Epoch 30/100\n",
      "51/51 [==============================] - 0s 4ms/step - loss: 0.6258 - accuracy: 0.6445 - val_loss: 0.6232 - val_accuracy: 0.6607\n",
      "Epoch 31/100\n",
      "51/51 [==============================] - 0s 4ms/step - loss: 0.6275 - accuracy: 0.6407 - val_loss: 0.6219 - val_accuracy: 0.6572\n",
      "Epoch 32/100\n",
      "51/51 [==============================] - 0s 4ms/step - loss: 0.6267 - accuracy: 0.6471 - val_loss: 0.6215 - val_accuracy: 0.6613\n",
      "Epoch 33/100\n",
      "51/51 [==============================] - 0s 4ms/step - loss: 0.6257 - accuracy: 0.6471 - val_loss: 0.6212 - val_accuracy: 0.6563\n",
      "Epoch 34/100\n",
      "51/51 [==============================] - 0s 4ms/step - loss: 0.6237 - accuracy: 0.6536 - val_loss: 0.6216 - val_accuracy: 0.6566\n",
      "Epoch 35/100\n",
      "51/51 [==============================] - 0s 4ms/step - loss: 0.6228 - accuracy: 0.6493 - val_loss: 0.6193 - val_accuracy: 0.6579\n",
      "Epoch 36/100\n",
      "51/51 [==============================] - 0s 4ms/step - loss: 0.6221 - accuracy: 0.6493 - val_loss: 0.6176 - val_accuracy: 0.6591\n",
      "Epoch 37/100\n",
      "51/51 [==============================] - 0s 4ms/step - loss: 0.6221 - accuracy: 0.6529 - val_loss: 0.6177 - val_accuracy: 0.6591\n",
      "Epoch 38/100\n",
      "51/51 [==============================] - 0s 4ms/step - loss: 0.6207 - accuracy: 0.6545 - val_loss: 0.6188 - val_accuracy: 0.6576\n",
      "Epoch 39/100\n",
      "51/51 [==============================] - 0s 4ms/step - loss: 0.6209 - accuracy: 0.6509 - val_loss: 0.6166 - val_accuracy: 0.6563\n",
      "Epoch 40/100\n",
      "51/51 [==============================] - 0s 4ms/step - loss: 0.6175 - accuracy: 0.6565 - val_loss: 0.6146 - val_accuracy: 0.6628\n",
      "Epoch 41/100\n",
      "51/51 [==============================] - 0s 5ms/step - loss: 0.6179 - accuracy: 0.6514 - val_loss: 0.6129 - val_accuracy: 0.6669\n",
      "Epoch 42/100\n",
      "51/51 [==============================] - 0s 4ms/step - loss: 0.6195 - accuracy: 0.6586 - val_loss: 0.6130 - val_accuracy: 0.6684\n",
      "Epoch 43/100\n",
      "51/51 [==============================] - 0s 4ms/step - loss: 0.6153 - accuracy: 0.6576 - val_loss: 0.6157 - val_accuracy: 0.6678\n",
      "Epoch 44/100\n",
      "51/51 [==============================] - 0s 4ms/step - loss: 0.6160 - accuracy: 0.6579 - val_loss: 0.6118 - val_accuracy: 0.6728\n",
      "Epoch 45/100\n",
      "51/51 [==============================] - 0s 4ms/step - loss: 0.6140 - accuracy: 0.6639 - val_loss: 0.6106 - val_accuracy: 0.6718\n",
      "Epoch 46/100\n",
      "51/51 [==============================] - 0s 4ms/step - loss: 0.6155 - accuracy: 0.6567 - val_loss: 0.6099 - val_accuracy: 0.6681\n",
      "Epoch 47/100\n",
      "51/51 [==============================] - 0s 4ms/step - loss: 0.6089 - accuracy: 0.6636 - val_loss: 0.6078 - val_accuracy: 0.6737\n",
      "Epoch 48/100\n",
      "51/51 [==============================] - 0s 4ms/step - loss: 0.6095 - accuracy: 0.6693 - val_loss: 0.6083 - val_accuracy: 0.6750\n",
      "Epoch 49/100\n",
      "51/51 [==============================] - 0s 4ms/step - loss: 0.6107 - accuracy: 0.6632 - val_loss: 0.6067 - val_accuracy: 0.6706\n",
      "Epoch 50/100\n",
      "51/51 [==============================] - 0s 4ms/step - loss: 0.6093 - accuracy: 0.6633 - val_loss: 0.6050 - val_accuracy: 0.6743\n",
      "Epoch 51/100\n",
      "51/51 [==============================] - 0s 4ms/step - loss: 0.6074 - accuracy: 0.6666 - val_loss: 0.6044 - val_accuracy: 0.6768\n",
      "Epoch 52/100\n",
      "51/51 [==============================] - 0s 4ms/step - loss: 0.6088 - accuracy: 0.6665 - val_loss: 0.6056 - val_accuracy: 0.6746\n",
      "Epoch 53/100\n",
      "51/51 [==============================] - 0s 4ms/step - loss: 0.6110 - accuracy: 0.6627 - val_loss: 0.6020 - val_accuracy: 0.6762\n",
      "Epoch 54/100\n",
      "51/51 [==============================] - 0s 4ms/step - loss: 0.6068 - accuracy: 0.6648 - val_loss: 0.6005 - val_accuracy: 0.6750\n",
      "Epoch 55/100\n",
      "51/51 [==============================] - 0s 4ms/step - loss: 0.6056 - accuracy: 0.6730 - val_loss: 0.6002 - val_accuracy: 0.6796\n",
      "Epoch 56/100\n",
      "51/51 [==============================] - 0s 4ms/step - loss: 0.6060 - accuracy: 0.6648 - val_loss: 0.5983 - val_accuracy: 0.6818\n",
      "Epoch 57/100\n",
      "51/51 [==============================] - 0s 4ms/step - loss: 0.6019 - accuracy: 0.6738 - val_loss: 0.5963 - val_accuracy: 0.6833\n",
      "Epoch 58/100\n",
      "51/51 [==============================] - 0s 4ms/step - loss: 0.6023 - accuracy: 0.6735 - val_loss: 0.5938 - val_accuracy: 0.6917\n",
      "Epoch 59/100\n",
      "51/51 [==============================] - 0s 4ms/step - loss: 0.6019 - accuracy: 0.6702 - val_loss: 0.5955 - val_accuracy: 0.6892\n",
      "Epoch 60/100\n",
      "51/51 [==============================] - 0s 4ms/step - loss: 0.6024 - accuracy: 0.6696 - val_loss: 0.5947 - val_accuracy: 0.6852\n",
      "Epoch 61/100\n",
      "51/51 [==============================] - 0s 4ms/step - loss: 0.5980 - accuracy: 0.6805 - val_loss: 0.5928 - val_accuracy: 0.6830\n",
      "Epoch 62/100\n",
      "51/51 [==============================] - 0s 4ms/step - loss: 0.5997 - accuracy: 0.6733 - val_loss: 0.5924 - val_accuracy: 0.6914\n",
      "Epoch 63/100\n",
      "51/51 [==============================] - 0s 4ms/step - loss: 0.5973 - accuracy: 0.6821 - val_loss: 0.5930 - val_accuracy: 0.6886\n",
      "Epoch 64/100\n",
      "51/51 [==============================] - 0s 4ms/step - loss: 0.5970 - accuracy: 0.6757 - val_loss: 0.5887 - val_accuracy: 0.6855\n",
      "Epoch 65/100\n",
      "51/51 [==============================] - 0s 4ms/step - loss: 0.5961 - accuracy: 0.6778 - val_loss: 0.5887 - val_accuracy: 0.6883\n",
      "Epoch 66/100\n",
      "51/51 [==============================] - 0s 4ms/step - loss: 0.5941 - accuracy: 0.6778 - val_loss: 0.5897 - val_accuracy: 0.6930\n",
      "Epoch 67/100\n",
      "51/51 [==============================] - 0s 4ms/step - loss: 0.5950 - accuracy: 0.6753 - val_loss: 0.5870 - val_accuracy: 0.6942\n",
      "Epoch 68/100\n",
      "51/51 [==============================] - 0s 4ms/step - loss: 0.5942 - accuracy: 0.6789 - val_loss: 0.5879 - val_accuracy: 0.6917\n",
      "Epoch 69/100\n",
      "51/51 [==============================] - 0s 4ms/step - loss: 0.5943 - accuracy: 0.6750 - val_loss: 0.5865 - val_accuracy: 0.6933\n",
      "Epoch 70/100\n",
      "51/51 [==============================] - 0s 4ms/step - loss: 0.5942 - accuracy: 0.6815 - val_loss: 0.5859 - val_accuracy: 0.6942\n",
      "Epoch 71/100\n",
      "51/51 [==============================] - 0s 4ms/step - loss: 0.5881 - accuracy: 0.6861 - val_loss: 0.5835 - val_accuracy: 0.6952\n",
      "Epoch 72/100\n",
      "51/51 [==============================] - 0s 4ms/step - loss: 0.5891 - accuracy: 0.6816 - val_loss: 0.5829 - val_accuracy: 0.6976\n",
      "Epoch 73/100\n",
      "51/51 [==============================] - 0s 4ms/step - loss: 0.5885 - accuracy: 0.6869 - val_loss: 0.5809 - val_accuracy: 0.7035\n",
      "Epoch 74/100\n",
      "51/51 [==============================] - 0s 4ms/step - loss: 0.5883 - accuracy: 0.6853 - val_loss: 0.5806 - val_accuracy: 0.6992\n",
      "Epoch 75/100\n",
      "51/51 [==============================] - 0s 4ms/step - loss: 0.5866 - accuracy: 0.6855 - val_loss: 0.5801 - val_accuracy: 0.6933\n",
      "Epoch 76/100\n",
      "51/51 [==============================] - 0s 4ms/step - loss: 0.5874 - accuracy: 0.6862 - val_loss: 0.5800 - val_accuracy: 0.6973\n",
      "Epoch 77/100\n",
      "51/51 [==============================] - 0s 4ms/step - loss: 0.5847 - accuracy: 0.6862 - val_loss: 0.5797 - val_accuracy: 0.6958\n",
      "Epoch 78/100\n",
      "51/51 [==============================] - 0s 4ms/step - loss: 0.5872 - accuracy: 0.6855 - val_loss: 0.5784 - val_accuracy: 0.6995\n",
      "Epoch 79/100\n",
      "51/51 [==============================] - 0s 4ms/step - loss: 0.5855 - accuracy: 0.6868 - val_loss: 0.5780 - val_accuracy: 0.6939\n",
      "Epoch 80/100\n",
      "51/51 [==============================] - 0s 4ms/step - loss: 0.5817 - accuracy: 0.6919 - val_loss: 0.5750 - val_accuracy: 0.6998\n",
      "Epoch 81/100\n",
      "51/51 [==============================] - 0s 4ms/step - loss: 0.5819 - accuracy: 0.6899 - val_loss: 0.5756 - val_accuracy: 0.6992\n",
      "Epoch 82/100\n",
      "51/51 [==============================] - 0s 4ms/step - loss: 0.5804 - accuracy: 0.6913 - val_loss: 0.5752 - val_accuracy: 0.7054\n",
      "Epoch 83/100\n",
      "51/51 [==============================] - 0s 4ms/step - loss: 0.5784 - accuracy: 0.6927 - val_loss: 0.5720 - val_accuracy: 0.7119\n",
      "Epoch 84/100\n",
      "51/51 [==============================] - 0s 4ms/step - loss: 0.5838 - accuracy: 0.6843 - val_loss: 0.5740 - val_accuracy: 0.7039\n",
      "Epoch 85/100\n",
      "51/51 [==============================] - 0s 4ms/step - loss: 0.5770 - accuracy: 0.6916 - val_loss: 0.5718 - val_accuracy: 0.7091\n",
      "Epoch 86/100\n",
      "51/51 [==============================] - 0s 4ms/step - loss: 0.5788 - accuracy: 0.6936 - val_loss: 0.5720 - val_accuracy: 0.7098\n",
      "Epoch 87/100\n",
      "51/51 [==============================] - 0s 4ms/step - loss: 0.5777 - accuracy: 0.6923 - val_loss: 0.5729 - val_accuracy: 0.7042\n",
      "Epoch 88/100\n",
      "51/51 [==============================] - 0s 4ms/step - loss: 0.5808 - accuracy: 0.6896 - val_loss: 0.5733 - val_accuracy: 0.7048\n",
      "Epoch 89/100\n",
      "51/51 [==============================] - 0s 4ms/step - loss: 0.5755 - accuracy: 0.6966 - val_loss: 0.5690 - val_accuracy: 0.7054\n",
      "Epoch 90/100\n",
      "51/51 [==============================] - 0s 4ms/step - loss: 0.5752 - accuracy: 0.6919 - val_loss: 0.5671 - val_accuracy: 0.7060\n",
      "Epoch 91/100\n",
      "51/51 [==============================] - 0s 4ms/step - loss: 0.5719 - accuracy: 0.6985 - val_loss: 0.5683 - val_accuracy: 0.7070\n",
      "Epoch 92/100\n",
      "51/51 [==============================] - 0s 4ms/step - loss: 0.5731 - accuracy: 0.6990 - val_loss: 0.5667 - val_accuracy: 0.7107\n",
      "Epoch 93/100\n",
      "51/51 [==============================] - 0s 4ms/step - loss: 0.5733 - accuracy: 0.6983 - val_loss: 0.5653 - val_accuracy: 0.7147\n",
      "Epoch 94/100\n",
      "51/51 [==============================] - 0s 4ms/step - loss: 0.5711 - accuracy: 0.7011 - val_loss: 0.5650 - val_accuracy: 0.7213\n",
      "Epoch 95/100\n",
      "51/51 [==============================] - 0s 4ms/step - loss: 0.5755 - accuracy: 0.6982 - val_loss: 0.5649 - val_accuracy: 0.7144\n",
      "Epoch 96/100\n",
      "51/51 [==============================] - 0s 4ms/step - loss: 0.5718 - accuracy: 0.6960 - val_loss: 0.5640 - val_accuracy: 0.7091\n",
      "Epoch 97/100\n",
      "51/51 [==============================] - 0s 4ms/step - loss: 0.5715 - accuracy: 0.6990 - val_loss: 0.5633 - val_accuracy: 0.7119\n",
      "Epoch 98/100\n",
      "51/51 [==============================] - 0s 4ms/step - loss: 0.5738 - accuracy: 0.6980 - val_loss: 0.5637 - val_accuracy: 0.7116\n",
      "Epoch 99/100\n",
      "51/51 [==============================] - 0s 4ms/step - loss: 0.5652 - accuracy: 0.6978 - val_loss: 0.5585 - val_accuracy: 0.7116\n",
      "Epoch 100/100\n",
      "51/51 [==============================] - 0s 4ms/step - loss: 0.5690 - accuracy: 0.6980 - val_loss: 0.5569 - val_accuracy: 0.7172\n"
     ]
    }
   ],
   "source": [
    "history=model1.fit(X_train,y_train,\n",
    "          epochs=100,\n",
    "          batch_size=256,\n",
    "          validation_data=(X_test,y_test))"
   ]
  },
  {
   "cell_type": "code",
   "execution_count": 58,
   "metadata": {},
   "outputs": [
    {
     "name": "stdout",
     "output_type": "stream",
     "text": [
      "101/101 [==============================] - 0s 941us/step - loss: 0.5569 - accuracy: 0.7172\n"
     ]
    },
    {
     "data": {
      "text/plain": [
       "[0.5568888187408447, 0.7172156572341919]"
      ]
     },
     "execution_count": 58,
     "metadata": {},
     "output_type": "execute_result"
    }
   ],
   "source": [
    "model1.evaluate(X_test,y_test)"
   ]
  },
  {
   "cell_type": "code",
   "execution_count": 59,
   "metadata": {},
   "outputs": [
    {
     "name": "stdout",
     "output_type": "stream",
     "text": [
      "403/403 [==============================] - 0s 936us/step - loss: 0.4978 - accuracy: 0.7685\n"
     ]
    },
    {
     "data": {
      "text/plain": [
       "[0.4978392720222473, 0.7684897184371948]"
      ]
     },
     "execution_count": 59,
     "metadata": {},
     "output_type": "execute_result"
    }
   ],
   "source": [
    "model1.evaluate(X_train,y_train)"
   ]
  },
  {
   "cell_type": "markdown",
   "metadata": {},
   "source": [
    "# Hyperparameter tuning in keras"
   ]
  },
  {
   "cell_type": "code",
   "execution_count": 60,
   "metadata": {},
   "outputs": [
    {
     "name": "stdout",
     "output_type": "stream",
     "text": [
      "Defaulting to user installation because normal site-packages is not writeable\n",
      "Requirement already satisfied: keras-tuner in /usr/local/lib/python3.7/site-packages (1.1.2)\n",
      "Requirement already satisfied: ipython in /usr/local/lib/python3.7/site-packages (from keras-tuner) (7.13.0)\n",
      "Requirement already satisfied: kt-legacy in /usr/local/lib/python3.7/site-packages (from keras-tuner) (1.0.4)\n",
      "Requirement already satisfied: tensorboard in /usr/local/lib/python3.7/site-packages (from keras-tuner) (2.8.0)\n",
      "Requirement already satisfied: numpy in /usr/local/lib/python3.7/site-packages (from keras-tuner) (1.21.5)\n",
      "Requirement already satisfied: packaging in /usr/local/lib/python3.7/site-packages (from keras-tuner) (21.0)\n",
      "Requirement already satisfied: requests in /usr/local/lib/python3.7/site-packages (from keras-tuner) (2.23.0)\n",
      "Requirement already satisfied: prompt-toolkit!=3.0.0,!=3.0.1,<3.1.0,>=2.0.0 in /usr/local/lib/python3.7/site-packages (from ipython->keras-tuner) (3.0.5)\n",
      "Requirement already satisfied: traitlets>=4.2 in /usr/local/lib/python3.7/site-packages (from ipython->keras-tuner) (5.1.1)\n",
      "Requirement already satisfied: setuptools>=18.5 in /usr/local/lib/python3.7/site-packages (from ipython->keras-tuner) (41.2.0)\n",
      "Requirement already satisfied: jedi>=0.10 in /usr/local/lib/python3.7/site-packages (from ipython->keras-tuner) (0.16.0)\n",
      "Requirement already satisfied: backcall in /usr/local/lib/python3.7/site-packages (from ipython->keras-tuner) (0.1.0)\n",
      "Requirement already satisfied: pickleshare in /usr/local/lib/python3.7/site-packages (from ipython->keras-tuner) (0.7.5)\n",
      "Requirement already satisfied: pexpect in /usr/local/lib/python3.7/site-packages (from ipython->keras-tuner) (4.8.0)\n",
      "Requirement already satisfied: pygments in /usr/local/lib/python3.7/site-packages (from ipython->keras-tuner) (2.6.1)\n",
      "Requirement already satisfied: decorator in /usr/local/lib/python3.7/site-packages (from ipython->keras-tuner) (4.4.2)\n",
      "Requirement already satisfied: pyparsing>=2.0.2 in /usr/local/lib/python3.7/site-packages (from packaging->keras-tuner) (2.4.6)\n",
      "Requirement already satisfied: urllib3!=1.25.0,!=1.25.1,<1.26,>=1.21.1 in /usr/local/lib/python3.7/site-packages (from requests->keras-tuner) (1.25.8)\n",
      "Requirement already satisfied: idna<3,>=2.5 in /usr/local/lib/python3.7/site-packages (from requests->keras-tuner) (2.9)\n",
      "Requirement already satisfied: chardet<4,>=3.0.2 in /usr/local/lib/python3.7/site-packages (from requests->keras-tuner) (3.0.4)\n",
      "Requirement already satisfied: certifi>=2017.4.17 in /usr/local/lib/python3.7/site-packages (from requests->keras-tuner) (2019.11.28)\n",
      "Requirement already satisfied: google-auth-oauthlib<0.5,>=0.4.1 in /usr/local/lib/python3.7/site-packages (from tensorboard->keras-tuner) (0.4.1)\n",
      "Requirement already satisfied: protobuf>=3.6.0 in /usr/local/lib/python3.7/site-packages (from tensorboard->keras-tuner) (3.20.1)\n",
      "Requirement already satisfied: google-auth<3,>=1.6.3 in /usr/local/lib/python3.7/site-packages (from tensorboard->keras-tuner) (1.13.1)\n",
      "Requirement already satisfied: markdown>=2.6.8 in /usr/local/lib/python3.7/site-packages (from tensorboard->keras-tuner) (3.2.1)\n",
      "Requirement already satisfied: wheel>=0.26 in /usr/local/lib/python3.7/site-packages (from tensorboard->keras-tuner) (0.34.2)\n",
      "Requirement already satisfied: werkzeug>=0.11.15 in /usr/local/lib/python3.7/site-packages (from tensorboard->keras-tuner) (1.0.1)\n",
      "Requirement already satisfied: tensorboard-plugin-wit>=1.6.0 in /usr/local/lib/python3.7/site-packages (from tensorboard->keras-tuner) (1.6.0.post2)\n",
      "Requirement already satisfied: grpcio>=1.24.3 in /usr/local/lib/python3.7/site-packages (from tensorboard->keras-tuner) (1.27.2)\n",
      "Requirement already satisfied: tensorboard-data-server<0.7.0,>=0.6.0 in /usr/local/lib/python3.7/site-packages (from tensorboard->keras-tuner) (0.6.1)\n",
      "Requirement already satisfied: absl-py>=0.4 in /usr/local/lib/python3.7/site-packages (from tensorboard->keras-tuner) (0.9.0)\n",
      "Requirement already satisfied: six in /usr/local/lib/python3.7/site-packages (from absl-py>=0.4->tensorboard->keras-tuner) (1.14.0)\n",
      "Requirement already satisfied: cachetools<5.0,>=2.0.0 in /usr/local/lib/python3.7/site-packages (from google-auth<3,>=1.6.3->tensorboard->keras-tuner) (4.0.0)\n",
      "Requirement already satisfied: pyasn1-modules>=0.2.1 in /usr/local/lib/python3.7/site-packages (from google-auth<3,>=1.6.3->tensorboard->keras-tuner) (0.2.8)\n",
      "Requirement already satisfied: rsa<4.1,>=3.1.4 in /usr/local/lib/python3.7/site-packages (from google-auth<3,>=1.6.3->tensorboard->keras-tuner) (4.0)\n",
      "Requirement already satisfied: requests-oauthlib>=0.7.0 in /usr/local/lib/python3.7/site-packages (from google-auth-oauthlib<0.5,>=0.4.1->tensorboard->keras-tuner) (1.3.0)\n",
      "Requirement already satisfied: parso>=0.5.2 in /usr/local/lib/python3.7/site-packages (from jedi>=0.10->ipython->keras-tuner) (0.6.2)\n",
      "Requirement already satisfied: wcwidth in /usr/local/lib/python3.7/site-packages (from prompt-toolkit!=3.0.0,!=3.0.1,<3.1.0,>=2.0.0->ipython->keras-tuner) (0.1.9)\n",
      "Requirement already satisfied: ptyprocess>=0.5 in /usr/local/lib/python3.7/site-packages (from pexpect->ipython->keras-tuner) (0.6.0)\n",
      "Requirement already satisfied: pyasn1<0.5.0,>=0.4.6 in /usr/local/lib/python3.7/site-packages (from pyasn1-modules>=0.2.1->google-auth<3,>=1.6.3->tensorboard->keras-tuner) (0.4.8)\n",
      "Requirement already satisfied: oauthlib>=3.0.0 in /usr/local/lib/python3.7/site-packages (from requests-oauthlib>=0.7.0->google-auth-oauthlib<0.5,>=0.4.1->tensorboard->keras-tuner) (3.1.0)\n",
      "\u001b[33mWARNING: You are using pip version 22.0.3; however, version 23.0.1 is available.\n",
      "You should consider upgrading via the '/usr/local/bin/python3 -m pip install --upgrade pip' command.\u001b[0m\u001b[33m\n",
      "\u001b[0m"
     ]
    }
   ],
   "source": [
    "!pip install keras-tuner"
   ]
  },
  {
   "cell_type": "code",
   "execution_count": 61,
   "metadata": {},
   "outputs": [],
   "source": [
    "import keras_tuner\n",
    "import tensorflow"
   ]
  },
  {
   "cell_type": "code",
   "execution_count": 62,
   "metadata": {},
   "outputs": [],
   "source": [
    "\n",
    "def build_model(hp):\n",
    "    model=Sequential()\n",
    "    \n",
    "    # first hidden layer\n",
    "    model.add(Dense(units=hp.Int('units',min_value=32,max_value=1024,step=16),\n",
    "                   activation=hp.Choice('activation',['relu','tanh']),input_shape=[9]))\n",
    "    \n",
    "    model.add(BatchNormalization())\n",
    "    model.add(Dropout(hp.Float('rate',min_value=0.1,max_value=0.5,step=0.1)))\n",
    "                      \n",
    "        \n",
    "    # Second hidden layer\n",
    "    model.add(Dense(units=hp.Int('units',min_value=32,max_value=1024,step=16),\n",
    "                   activation=hp.Choice('activation',['relu','tanh'])))\n",
    "    \n",
    "    model.add(BatchNormalization())\n",
    "    model.add(Dropout(hp.Float('rate',min_value=0.1,max_value=0.5,step=0.1)))\n",
    "    \n",
    "    # third hidden layer\n",
    "    model.add(Dense(units=hp.Int('units',min_value=32,max_value=1024,step=16),\n",
    "                   activation=hp.Choice('activation',['relu','tanh'])))\n",
    "    \n",
    "    model.add(BatchNormalization())\n",
    "    model.add(Dropout(hp.Float('rate',min_value=0.1,max_value=0.5,step=0.1)))\n",
    "    \n",
    "    model.add(Dense(1,activation='sigmoid'))\n",
    "    \n",
    "    learning_rate=hp.Float('learning_rate',min_value=0.001,max_value=0.1,step=0.01)\n",
    "        \n",
    "    model.compile(loss='binary_crossentropy',\n",
    "                  optimizer=tensorflow.keras.optimizers.Adam(learning_rate),\n",
    "                 metrics=['accuracy'])\n",
    "    return model"
   ]
  },
  {
   "cell_type": "code",
   "execution_count": 63,
   "metadata": {},
   "outputs": [],
   "source": [
    "import keras_tuner as kt"
   ]
  },
  {
   "cell_type": "code",
   "execution_count": 64,
   "metadata": {},
   "outputs": [
    {
     "data": {
      "text/plain": [
       "<keras.engine.sequential.Sequential at 0x7f416454b3d0>"
      ]
     },
     "execution_count": 64,
     "metadata": {},
     "output_type": "execute_result"
    }
   ],
   "source": [
    "build_model(kt.HyperParameters())"
   ]
  },
  {
   "cell_type": "code",
   "execution_count": 65,
   "metadata": {},
   "outputs": [
    {
     "name": "stdout",
     "output_type": "stream",
     "text": [
      "INFO:tensorflow:Reloading Oracle from existing project ./untitled_project/oracle.json\n",
      "INFO:tensorflow:Reloading Tuner from ./untitled_project/tuner0.json\n"
     ]
    }
   ],
   "source": [
    "rtuner=kt.RandomSearch(hypermodel=build_model,\n",
    "                       objective='val_accuracy',\n",
    "                       max_trials=10                   \n",
    "                      )"
   ]
  },
  {
   "cell_type": "code",
   "execution_count": 66,
   "metadata": {},
   "outputs": [
    {
     "name": "stdout",
     "output_type": "stream",
     "text": [
      "INFO:tensorflow:Oracle triggered exit\n"
     ]
    }
   ],
   "source": [
    "rtuner.search(X_train,y_train,\n",
    "             epochs=50,validation_data=(X_test,y_test),\n",
    "             verbose=2)"
   ]
  },
  {
   "cell_type": "code",
   "execution_count": 68,
   "metadata": {},
   "outputs": [],
   "source": [
    "models=rtuner.get_best_models()"
   ]
  },
  {
   "cell_type": "code",
   "execution_count": 69,
   "metadata": {},
   "outputs": [
    {
     "data": {
      "text/plain": [
       "1"
      ]
     },
     "execution_count": 69,
     "metadata": {},
     "output_type": "execute_result"
    }
   ],
   "source": [
    "len(models)"
   ]
  },
  {
   "cell_type": "code",
   "execution_count": 70,
   "metadata": {},
   "outputs": [
    {
     "name": "stdout",
     "output_type": "stream",
     "text": [
      "Model: \"sequential\"\n",
      "_________________________________________________________________\n",
      " Layer (type)                Output Shape              Param #   \n",
      "=================================================================\n",
      " dense (Dense)               (None, 416)               4160      \n",
      "                                                                 \n",
      " batch_normalization (BatchN  (None, 416)              1664      \n",
      " ormalization)                                                   \n",
      "                                                                 \n",
      " dropout (Dropout)           (None, 416)               0         \n",
      "                                                                 \n",
      " dense_1 (Dense)             (None, 416)               173472    \n",
      "                                                                 \n",
      " batch_normalization_1 (Batc  (None, 416)              1664      \n",
      " hNormalization)                                                 \n",
      "                                                                 \n",
      " dropout_1 (Dropout)         (None, 416)               0         \n",
      "                                                                 \n",
      " dense_2 (Dense)             (None, 416)               173472    \n",
      "                                                                 \n",
      " batch_normalization_2 (Batc  (None, 416)              1664      \n",
      " hNormalization)                                                 \n",
      "                                                                 \n",
      " dropout_2 (Dropout)         (None, 416)               0         \n",
      "                                                                 \n",
      " dense_3 (Dense)             (None, 1)                 417       \n",
      "                                                                 \n",
      "=================================================================\n",
      "Total params: 356,513\n",
      "Trainable params: 354,017\n",
      "Non-trainable params: 2,496\n",
      "_________________________________________________________________\n"
     ]
    }
   ],
   "source": [
    "models[0].summary()"
   ]
  },
  {
   "cell_type": "code",
   "execution_count": 71,
   "metadata": {},
   "outputs": [],
   "source": [
    "y_pred=models[0].predict(X_test)>=0.5\n"
   ]
  },
  {
   "cell_type": "code",
   "execution_count": 72,
   "metadata": {},
   "outputs": [
    {
     "data": {
      "text/plain": [
       "0.7992541951522685"
      ]
     },
     "execution_count": 72,
     "metadata": {},
     "output_type": "execute_result"
    }
   ],
   "source": [
    "from sklearn.metrics import accuracy_score\n",
    "accuracy_score(y_test,y_pred)"
   ]
  },
  {
   "cell_type": "code",
   "execution_count": null,
   "metadata": {},
   "outputs": [],
   "source": []
  }
 ],
 "metadata": {
  "kernelspec": {
   "display_name": "Python 3",
   "language": "python",
   "name": "python3"
  },
  "language_info": {
   "codemirror_mode": {
    "name": "ipython",
    "version": 3
   },
   "file_extension": ".py",
   "mimetype": "text/x-python",
   "name": "python",
   "nbconvert_exporter": "python",
   "pygments_lexer": "ipython3",
   "version": "3.7.6"
  }
 },
 "nbformat": 4,
 "nbformat_minor": 4
}
